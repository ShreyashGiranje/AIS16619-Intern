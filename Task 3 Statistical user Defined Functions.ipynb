{
 "cells": [
  {
   "cell_type": "markdown",
   "id": "486cfee5",
   "metadata": {},
   "source": [
    "# Statistical user Defined Functions"
   ]
  },
  {
   "cell_type": "markdown",
   "id": "2d46ecbd",
   "metadata": {},
   "source": [
    "Creating statistical user-defined functions in Python involves writing custom functions to perform various statistical calculations. "
   ]
  },
  {
   "cell_type": "markdown",
   "id": "fe4c97a0",
   "metadata": {},
   "source": [
    "Mean (Average),\n",
    "Median,\n",
    "Mode,\n",
    "Variavnce,\n",
    "Standard Deviantion,\n",
    "Range,\n",
    "Co-variance,\n",
    "Correlation,\n",
    "Skewness,\n",
    "Kurtosis,\n",
    "etc.\n"
   ]
  },
  {
   "cell_type": "markdown",
   "id": "2288c06b",
   "metadata": {},
   "source": [
    "# Mean\n",
    "Explanation: The mean (average) is calculated by summing all the numbers in the list and dividing by the number of elements in the list."
   ]
  },
  {
   "cell_type": "code",
   "execution_count": 3,
   "id": "e88d3079",
   "metadata": {},
   "outputs": [
    {
     "name": "stdout",
     "output_type": "stream",
     "text": [
      "The mean of the list is: 3.0\n"
     ]
    }
   ],
   "source": [
    "def cal_mean(num):\n",
    "\n",
    "    if len(num) == 0:\n",
    "        return 0                           # Return 0 for an empty \n",
    "\n",
    "    \n",
    "    mean = sum(num) / len(num)\n",
    "\n",
    "    return mean\n",
    "\n",
    "# Example\n",
    "num = [1,2,3,4,5]\n",
    "mean = cal_mean(num)\n",
    "print(\"The mean of the list is:\", mean)\n"
   ]
  },
  {
   "cell_type": "markdown",
   "id": "0d085d78",
   "metadata": {},
   "source": [
    "## Median\n",
    "Explanation: The median is the middle value in a sorted list. If the list length is even, it's the average of the two middle values."
   ]
  },
  {
   "cell_type": "code",
   "execution_count": 2,
   "id": "afac5192",
   "metadata": {},
   "outputs": [
    {
     "name": "stdout",
     "output_type": "stream",
     "text": [
      "The median of the list is:  30\n"
     ]
    }
   ],
   "source": [
    "def cal_median(num):\n",
    "    if len(num) == 0:\n",
    "        return 0                            # Return 0 for an empty list\n",
    "\n",
    "    sort_num = sorted(num)\n",
    "    n = len(sort_num)\n",
    "    mid = n // 2\n",
    "\n",
    "    if n % 2 == 0:\n",
    "        \n",
    "        med = (sort_num[mid] + sort_num[mid + 1]) / 2      # If even, average the two middle numbers\n",
    "    else:\n",
    "                                            \n",
    "        med = sort_num[mid]                                # If odd, take the middle number\n",
    "    \n",
    "    return med\n",
    "\n",
    "# Example usage\n",
    "num= [10, 20, 30, 40, 50]\n",
    "median = cal_median(num)\n",
    "print(\"The median of the list is: \",median)"
   ]
  },
  {
   "cell_type": "markdown",
   "id": "1d9f45d2",
   "metadata": {},
   "source": [
    "\n",
    "# Mode\n",
    "Explanation: The mode is the number that appears most frequently in the list. If there's a tie, all the most frequent numbers are returned."
   ]
  },
  {
   "cell_type": "code",
   "execution_count": 6,
   "id": "e4a87ced",
   "metadata": {},
   "outputs": [
    {
     "name": "stdout",
     "output_type": "stream",
     "text": [
      "The mode of the list is:  [20, 50]\n"
     ]
    }
   ],
   "source": [
    "def cal_mode(numb):\n",
    "   \n",
    "    if len(numb) == 0:\n",
    "        return 0                                   # Return None for an empty list\n",
    "\n",
    "    # Create a dictionary to count the occurrences of each number\n",
    "    freq = {}\n",
    "    for number in numb:\n",
    "        if number in freq:\n",
    "            freq[number] += 1\n",
    "        else:\n",
    "            freq[number] = 1\n",
    "\n",
    "    # Find the maximum frequency\n",
    "    max_count = max(freq.values())\n",
    "\n",
    "    # Identify the modes\n",
    "    modes = [num for num, count in freq.items() if count == max_count]\n",
    "\n",
    "    # If there is only one mode, return it, otherwise return the list of modes\n",
    "    return modes[0] if len(modes) == 1 else modes\n",
    "\n",
    "# Example usage\n",
    "numb = [10, 20, 20, 30, 40, 50, 50]\n",
    "mode = cal_mode(numb)\n",
    "print(\"The mode of the list is: \",mode)\n"
   ]
  },
  {
   "cell_type": "markdown",
   "id": "ccfa5a56",
   "metadata": {},
   "source": [
    "# Variance\n",
    "Explanation: Variance measures how spread out the numbers are. It's calculated as the average of the squared differences from the mean."
   ]
  },
  {
   "cell_type": "code",
   "execution_count": 4,
   "id": "509cdb7f",
   "metadata": {},
   "outputs": [
    {
     "name": "stdout",
     "output_type": "stream",
     "text": [
      "The variance of the list is:  200.0\n"
     ]
    }
   ],
   "source": [
    "def cal_var(num):\n",
    "    \n",
    "    if len(num) == 0:\n",
    "        return 0                               # Return 0 for an empty\n",
    "   \n",
    "    # Calculate the mean\n",
    "    mean = sum(num) / len(num)\n",
    "    \n",
    "    # Calculate the squared differences from the mean\n",
    "    squared_diffs = [(x - mean) ** 2 for x in num]\n",
    "    \n",
    "    # Calculate the variance\n",
    "    var = sum(squared_diffs) / len(num)\n",
    "    \n",
    "    return var\n",
    "\n",
    "# Example usage\n",
    "num = [10, 20, 30, 40, 50]\n",
    "var = cal_var(num)\n",
    "print(\"The variance of the list is: \",var)\n"
   ]
  },
  {
   "cell_type": "markdown",
   "id": "d91f067f",
   "metadata": {},
   "source": [
    "# Standard Deviation\n",
    "Explanation: The standard deviation is the square root of the variance. It indicates how much the numbers in the list deviate from the mean."
   ]
  },
  {
   "cell_type": "code",
   "execution_count": 7,
   "id": "9ee218f8",
   "metadata": {},
   "outputs": [
    {
     "name": "stdout",
     "output_type": "stream",
     "text": [
      "The standard deviation of the list is:  14.142135623730951\n"
     ]
    }
   ],
   "source": [
    "import math\n",
    "\n",
    "def cal_SD(numb):\n",
    "   \n",
    "    if len(numb) == 0:\n",
    "        return 0                                    # Return 0 for an empty \n",
    "\n",
    "    # Calculate the mean\n",
    "    mean = sum(numb) / len(numb)\n",
    "    \n",
    "    # Calculate the squared differences from the mean\n",
    "    squared_diffs = [(x - mean) ** 2 for x in numb]\n",
    "    \n",
    "    # Calculate the variance\n",
    "    var = sum(squared_diffs) / len(numb)\n",
    "    \n",
    "    # Calculate the standard deviation\n",
    "    SD = math.sqrt(var)\n",
    "    \n",
    "    return SD\n",
    "# Example usage\n",
    "numb = [10, 20, 30, 40, 50]\n",
    "SD = cal_SD(numb)\n",
    "print(\"The standard deviation of the list is: \",SD)\n"
   ]
  },
  {
   "cell_type": "markdown",
   "id": "11ab9267",
   "metadata": {},
   "source": [
    "# Range\n",
    "Explanation: The range is the difference between the largest and smallest values in the list."
   ]
  },
  {
   "cell_type": "code",
   "execution_count": 8,
   "id": "28d9c8cd",
   "metadata": {},
   "outputs": [
    {
     "name": "stdout",
     "output_type": "stream",
     "text": [
      "The range of the list is:  40\n"
     ]
    }
   ],
   "source": [
    "def cal_range(numb):\n",
    "\n",
    "    if len(numb) == 0:\n",
    "        return 0                                 # Return 0 for an empty list\n",
    "\n",
    "    # Calculate the range\n",
    "    range_value = max(numb) - min(numb)\n",
    "    \n",
    "    return range_value\n",
    "\n",
    "# Example usage\n",
    "numb = [10, 20, 30, 40, 50]\n",
    "range_value = cal_range(numb)\n",
    "print(\"The range of the list is: \",range_value)\n"
   ]
  },
  {
   "cell_type": "markdown",
   "id": "04b37f31",
   "metadata": {},
   "source": [
    "# Co-variance\n",
    "Explanation: In Python, you can calculate the covariance between two lists of numbers using a user-defined function"
   ]
  },
  {
   "cell_type": "code",
   "execution_count": 12,
   "id": "75e200fb",
   "metadata": {},
   "outputs": [
    {
     "name": "stdout",
     "output_type": "stream",
     "text": [
      "The covariance of the lists is:  200.0\n"
     ]
    }
   ],
   "source": [
    "def cal_covar(x, y):\n",
    "    \n",
    "    if len(x) != len(y) or len(x) == 0:\n",
    "        return 0\n",
    "\n",
    "    n = len(x)\n",
    "    \n",
    "    # Calculate the means of x and y\n",
    "    mean_x = sum(x) / n\n",
    "    mean_y = sum(y) / n\n",
    "\n",
    "    # Calculate the covariance\n",
    "    covar = sum((x[i] - mean_x) * (y[i] - mean_y) for i in range(n)) / n\n",
    "    \n",
    "    return covar\n",
    "\n",
    "# Example usage\n",
    "x = [10, 20, 30, 40, 50]\n",
    "y = [15, 25, 35, 45, 55]\n",
    "covar = cal_covar(x, y)\n",
    "print(\"The covariance of the lists is: \",covar)\n"
   ]
  },
  {
   "cell_type": "markdown",
   "id": "af8cbd07",
   "metadata": {},
   "source": [
    "# Correlation \n",
    "you can calculate the correlation coefficient between two lists of numbers using a user-defined function:"
   ]
  },
  {
   "cell_type": "code",
   "execution_count": 13,
   "id": "20a35cac",
   "metadata": {},
   "outputs": [
    {
     "name": "stdout",
     "output_type": "stream",
     "text": [
      "The correlation coefficient of the lists is:  1.0\n"
     ]
    }
   ],
   "source": [
    "def cal_corr(x, y):\n",
    "    \n",
    "    if len(x) != len(y) or len(x) == 0:\n",
    "        return 0\n",
    "\n",
    "    n = len(x)\n",
    "    \n",
    "    # Calculate the means of x and y\n",
    "    mean_x = sum(x) / n\n",
    "    mean_y = sum(y) / n\n",
    "\n",
    "    # Calculate the sums of squares\n",
    "    sum_sq_x = sum((xi - mean_x) ** 2 for xi in x)\n",
    "    sum_sq_y = sum((yi - mean_y) ** 2 for yi in y)\n",
    "\n",
    "    # Calculate the sum of products\n",
    "    sum_products = sum((x[i] - mean_x) * (y[i] - mean_y) for i in range(n))\n",
    "\n",
    "    # Calculate the correlation coefficient\n",
    "    corr = sum_products / (math.sqrt(sum_sq_x) * math.sqrt(sum_sq_y))\n",
    "    \n",
    "    return corr\n",
    "\n",
    "# Example usage\n",
    "x = [10, 20, 30, 40, 50]\n",
    "y = [15, 25, 35, 45, 55]\n",
    "corr = cal_corr(x, y)\n",
    "print(\"The correlation coefficient of the lists is: \",corr)\n"
   ]
  },
  {
   "cell_type": "markdown",
   "id": "8f7ed21e",
   "metadata": {},
   "source": [
    "# Skewness"
   ]
  },
  {
   "cell_type": "code",
   "execution_count": 16,
   "id": "9e0be4fc",
   "metadata": {},
   "outputs": [
    {
     "name": "stdout",
     "output_type": "stream",
     "text": [
      "The skewness of the data is:  0.0\n"
     ]
    }
   ],
   "source": [
    "def skewness(data):\n",
    "    \n",
    "    n = len(data)\n",
    "    mean = sum(data) / n\n",
    "    var = sum((x - mean) ** 2 for x in data) / n\n",
    "    sd = var ** 0.5\n",
    "    skew = (sum((x - mean) ** 3 for x in data) / n) / sd ** 3\n",
    "    return skew\n",
    "\n",
    "# Example usage\n",
    "data = [10, 20, 30, 40, 50, 60, 70, 80, 90, 100]\n",
    "skew = skewness(data)\n",
    "print(\"The skewness of the data is: \",skew)\n"
   ]
  },
  {
   "cell_type": "markdown",
   "id": "386876cf",
   "metadata": {},
   "source": [
    "# Kurtosis"
   ]
  },
  {
   "cell_type": "code",
   "execution_count": 18,
   "id": "03fc549e",
   "metadata": {},
   "outputs": [
    {
     "name": "stdout",
     "output_type": "stream",
     "text": [
      "The kurtosis of the data is:  -1.2242424242424241\n"
     ]
    }
   ],
   "source": [
    "def kurtosis(data):\n",
    "    \n",
    "    n = len(data)\n",
    "    mean = sum(data) / n\n",
    "    var = sum((x - mean) ** 2 for x in data) / n\n",
    "    sd = var ** 0.5\n",
    "    kurt= (sum((x - mean) ** 4 for x in data) / n) / sd ** 4 - 3\n",
    "    return kurt\n",
    "\n",
    "# Example usage\n",
    "data = [10, 20, 30, 40, 50, 60, 70, 80, 90, 100]\n",
    "kurt = kurtosis(data)\n",
    "print(\"The kurtosis of the data is: \",kurt)\n"
   ]
  },
  {
   "cell_type": "code",
   "execution_count": null,
   "id": "53cb755e",
   "metadata": {},
   "outputs": [],
   "source": []
  }
 ],
 "metadata": {
  "kernelspec": {
   "display_name": "Python 3 (ipykernel)",
   "language": "python",
   "name": "python3"
  },
  "language_info": {
   "codemirror_mode": {
    "name": "ipython",
    "version": 3
   },
   "file_extension": ".py",
   "mimetype": "text/x-python",
   "name": "python",
   "nbconvert_exporter": "python",
   "pygments_lexer": "ipython3",
   "version": "3.10.9"
  }
 },
 "nbformat": 4,
 "nbformat_minor": 5
}
