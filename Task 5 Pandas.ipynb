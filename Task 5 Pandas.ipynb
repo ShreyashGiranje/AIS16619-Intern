{
 "cells": [
  {
   "cell_type": "markdown",
   "id": "80f8c52f",
   "metadata": {},
   "source": [
    "# Pandas Introduction"
   ]
  },
  {
   "cell_type": "markdown",
   "id": "e22a4e25",
   "metadata": {},
   "source": [
    "# What is Pandas?\n",
    "\n",
    "\n",
    "* Pandas is a Python library used for working with data sets.\n",
    "\n",
    "* It has functions for analyzing, cleaning, exploring, and manipulating data.\n",
    "\n",
    "* The name \"Pandas\" has a reference to both \"Panel Data\", and \"Python Data Analysis\" and was created by Wes McKinney in 2008.\n",
    "\n"
   ]
  },
  {
   "cell_type": "markdown",
   "id": "0368f32e",
   "metadata": {},
   "source": [
    "# Why Use Pandas?\n",
    "* Pandas allows us to analyze big data and make conclusions based on statistical theories.\n",
    "\n",
    "* Pandas can clean messy data sets, and make them readable and relevant.\n",
    "\n",
    "* Relevant data is very important in data science"
   ]
  },
  {
   "cell_type": "markdown",
   "id": "48393dcd",
   "metadata": {},
   "source": [
    "# What Can Pandas Do?\n",
    "* Pandas gives you answers about the data. Like:\n",
    "\n",
    "* Is there a correlation between two or more columns?\n",
    "What is average value?\n",
    "Max value?\n",
    "Min value?\n",
    "* Pandas are also able to delete rows that are not relevant, or contains wrong values, like empty or NULL values. This is called cleaning the data.\n",
    "\n"
   ]
  },
  {
   "cell_type": "markdown",
   "id": "7ef41618",
   "metadata": {},
   "source": [
    "# Pandas Series\n",
    "\n",
    "* Pandas Series is a one-dimensional labeled array capable of holding data of any type (integer, string, float, python objects, etc.). The axis labels are collectively called index. Labels need not be unique but must be a hashable type. The object supports both integer and label-based indexing and provides a host of methods for performing operations involving the index. \n",
    "\n",
    "* To create Series with any of the methods make sure to import pandas library.\n",
    "\n",
    "Creating an empty Series: Series() function of Pandas is used to create a series. A basic series, which can be created is an Empty Series. "
   ]
  },
  {
   "cell_type": "code",
   "execution_count": 1,
   "id": "ea332553",
   "metadata": {},
   "outputs": [
    {
     "name": "stdout",
     "output_type": "stream",
     "text": [
      "Series([], dtype: float64)\n"
     ]
    },
    {
     "name": "stderr",
     "output_type": "stream",
     "text": [
      "C:\\Users\\shree\\AppData\\Local\\Temp\\ipykernel_21340\\1565176722.py:5: FutureWarning: The default dtype for empty Series will be 'object' instead of 'float64' in a future version. Specify a dtype explicitly to silence this warning.\n",
      "  ser = pd.Series()\n"
     ]
    }
   ],
   "source": [
    "# import pandas as pd\n",
    "import pandas as pd\n",
    "\n",
    "# Creating empty series\n",
    "ser = pd.Series()\n",
    "\n",
    "print(ser)               #By default, the data type of Series is float. \n"
   ]
  },
  {
   "cell_type": "markdown",
   "id": "0f9fbf2c",
   "metadata": {},
   "source": [
    "# Creating a series from array: \n",
    "* In order to create a series from NumPy array, we have to import numpy module and have to use array() function. "
   ]
  },
  {
   "cell_type": "code",
   "execution_count": 3,
   "id": "94faa273",
   "metadata": {},
   "outputs": [
    {
     "name": "stdout",
     "output_type": "stream",
     "text": [
      "0    a\n",
      "1    e\n",
      "2    i\n",
      "3    o\n",
      "4    u\n",
      "dtype: object\n"
     ]
    }
   ],
   "source": [
    "# import pandas as pd\n",
    "import pandas as pd\n",
    "\n",
    "# import numpy as np\n",
    "import numpy as np\n",
    "\n",
    "# simple array\n",
    "data = np.array(['a', 'e', 'i', 'o', 'u'])\n",
    "\n",
    "ser = pd.Series(data)\n",
    "print(ser)                             #By default, the index of the series starts from 0 till the length of series -1.\n"
   ]
  },
  {
   "cell_type": "markdown",
   "id": "265f4f67",
   "metadata": {},
   "source": [
    "# Creating a series from array with an index: \n",
    "* In order to create a series by explicitly proving index instead of the default, we have to provide a list of elements to the index parameter with the same number of elements as it is an array. "
   ]
  },
  {
   "cell_type": "code",
   "execution_count": 4,
   "id": "b90b9357",
   "metadata": {},
   "outputs": [
    {
     "name": "stdout",
     "output_type": "stream",
     "text": [
      "10    a\n",
      "11    e\n",
      "12    i\n",
      "13    o\n",
      "14    u\n",
      "dtype: object\n"
     ]
    }
   ],
   "source": [
    "# import pandas as pd\n",
    "import pandas as pd\n",
    "\n",
    "# import numpy as np\n",
    "import numpy as np\n",
    "\n",
    "# simple array\n",
    "data = np.array(['a', 'e', 'i', 'o', 'u'])\n",
    "\n",
    "# providing an index\n",
    "ser = pd.Series(data, index=[10, 11, 12, 13, 14])\n",
    "print(ser)\n"
   ]
  },
  {
   "cell_type": "markdown",
   "id": "e0299cd8",
   "metadata": {},
   "source": [
    "# Creating a series from Lists:\n",
    "* In order to create a series from list, we have to first create a list after that we can create a series from list. "
   ]
  },
  {
   "cell_type": "code",
   "execution_count": 5,
   "id": "f2599f26",
   "metadata": {},
   "outputs": [
    {
     "name": "stdout",
     "output_type": "stream",
     "text": [
      "0    a\n",
      "1    e\n",
      "2    i\n",
      "3    o\n",
      "4    u\n",
      "dtype: object\n"
     ]
    }
   ],
   "source": [
    "import pandas as pd\n",
    "\n",
    "list = ['a', 'e', 'i', 'o', 'u']\n",
    "\n",
    "# create series form a list\n",
    "ser = pd.Series(list)\n",
    "print(ser)\n"
   ]
  },
  {
   "cell_type": "markdown",
   "id": "6d5d5c65",
   "metadata": {},
   "source": [
    "# Creating a series from Dictionary: \n",
    "* In order to create a series from the dictionary, we have to first create a dictionary after that we can make a series using dictionary. Dictionary keys are used to construct indexes of Series.  "
   ]
  },
  {
   "cell_type": "code",
   "execution_count": 6,
   "id": "5e5d4e02",
   "metadata": {},
   "outputs": [
    {
     "name": "stdout",
     "output_type": "stream",
     "text": [
      "Name      Shreyash\n",
      "Age             20\n",
      "weight          70\n",
      "height         175\n",
      "dtype: object\n"
     ]
    }
   ],
   "source": [
    "import pandas as pd\n",
    "\n",
    "# a simple dictionary\n",
    "dict = {  'Name': 'Shreyash',\n",
    "           'Age': 20,\n",
    "        'weight': 70,\n",
    "        'height': 175}\n",
    "\n",
    "# create series from dictionary\n",
    "ser = pd.Series(dict)\n",
    "\n",
    "print(ser)\n"
   ]
  },
  {
   "cell_type": "markdown",
   "id": "b5d31817",
   "metadata": {},
   "source": [
    "# Creating a series from Scalar value: \n",
    "* In order to create a series from scalar value, an index must be provided. The scalar value will be repeated to match the length of the index. "
   ]
  },
  {
   "cell_type": "code",
   "execution_count": 7,
   "id": "e11f6076",
   "metadata": {},
   "outputs": [
    {
     "name": "stdout",
     "output_type": "stream",
     "text": [
      "0    10\n",
      "1    10\n",
      "2    10\n",
      "3    10\n",
      "4    10\n",
      "5    10\n",
      "dtype: int64\n"
     ]
    }
   ],
   "source": [
    "import pandas as pd\n",
    "\n",
    "import numpy as np\n",
    "\n",
    "# giving a scalar value with index\n",
    "ser = pd.Series(10, index=[0, 1, 2, 3, 4, 5])\n",
    "\n",
    "print(ser)\n"
   ]
  },
  {
   "cell_type": "markdown",
   "id": "2967701c",
   "metadata": {},
   "source": [
    "# Creating a series From a Numpy Array:\n",
    "* You can create a Series from a NumPy array, which is useful when working with numerical data."
   ]
  },
  {
   "cell_type": "code",
   "execution_count": 2,
   "id": "9715ef90",
   "metadata": {},
   "outputs": [
    {
     "name": "stdout",
     "output_type": "stream",
     "text": [
      "0    0\n",
      "1    1\n",
      "2    2\n",
      "3    3\n",
      "4    4\n",
      "5    5\n",
      "dtype: int32\n"
     ]
    }
   ],
   "source": [
    "import pandas as pd\n",
    "import numpy as np\n",
    "\n",
    "data = np.array([0,1,2,3,4,5])\n",
    "series = pd.Series(data)\n",
    "print(series)\n"
   ]
  },
  {
   "cell_type": "code",
   "execution_count": 3,
   "id": "c05db485",
   "metadata": {},
   "outputs": [
    {
     "name": "stdout",
     "output_type": "stream",
     "text": [
      "RangeIndex(start=0, stop=6, step=1)\n",
      "[0 1 2 3 4 5]\n",
      "int32\n"
     ]
    }
   ],
   "source": [
    "print(series.index)\n",
    "print(series.values)\n",
    "print(series.dtype)\n"
   ]
  },
  {
   "cell_type": "markdown",
   "id": "b19dfb72",
   "metadata": {},
   "source": [
    "# Methods\n",
    "* series.head(n): Returns the first n elements.\n",
    "* series.tail(n): Returns the last n elements.\n",
    "* series.describe(): Provides descriptive statistics for the Series.\n",
    "* series.mean(): Computes the mean of the Series values.\n",
    "* series.median(): Computes the median of the Series values.\n",
    "* series.max(): Returns the maximum value.\n",
    "* series.min(): Returns the minimum value.\n",
    "* series.sum(): Returns the sum of the Series values.\n",
    "* series.value_counts(): Returns the counts of unique values.\n",
    "* series.apply(func): Applies a function to each element in the Series.\n",
    "* series.map(func): Maps values of the Series using a given function."
   ]
  },
  {
   "cell_type": "code",
   "execution_count": 9,
   "id": "2117d609",
   "metadata": {},
   "outputs": [
    {
     "name": "stdout",
     "output_type": "stream",
     "text": [
      "0    0\n",
      "1    1\n",
      "2    2\n",
      "dtype: int32\n",
      "4    4\n",
      "5    5\n",
      "dtype: int32\n",
      "count    6.000000\n",
      "mean     2.500000\n",
      "std      1.870829\n",
      "min      0.000000\n",
      "25%      1.250000\n",
      "50%      2.500000\n",
      "75%      3.750000\n",
      "max      5.000000\n",
      "dtype: float64\n",
      "0    1\n",
      "1    1\n",
      "2    1\n",
      "3    1\n",
      "4    1\n",
      "5    1\n",
      "dtype: int64\n",
      "0     0\n",
      "1     2\n",
      "2     4\n",
      "3     6\n",
      "4     8\n",
      "5    10\n",
      "dtype: int64\n",
      "0     0\n",
      "1     1\n",
      "2     4\n",
      "3     9\n",
      "4    16\n",
      "5    25\n",
      "dtype: int64\n"
     ]
    }
   ],
   "source": [
    "print(series.head(3))\n",
    "print(series.tail(2))\n",
    "print(series.describe())\n",
    "print(series.value_counts())\n",
    "print(series.apply(lambda x: x * 2))\n",
    "print(series.map(lambda x: x ** 2))\n"
   ]
  },
  {
   "cell_type": "markdown",
   "id": "0f07a1a6",
   "metadata": {},
   "source": [
    "# Series Operations \n",
    "Pandas Series supports a wide range of operations that allow for effective data manipulation and analysis."
   ]
  },
  {
   "cell_type": "markdown",
   "id": "819693ba",
   "metadata": {},
   "source": [
    "# Arithmetic Operations\n",
    "* You can perform arithmetic operations between Series objects or between a Series and a scalar value. These operations are performed element-wise and support automatic alignment based on the Series index."
   ]
  },
  {
   "cell_type": "code",
   "execution_count": 16,
   "id": "e6e3b069",
   "metadata": {},
   "outputs": [
    {
     "name": "stdout",
     "output_type": "stream",
     "text": [
      "a    5.0\n",
      "b    7.0\n",
      "c    NaN\n",
      "d    NaN\n",
      "dtype: float64\n"
     ]
    }
   ],
   "source": [
    "#Addition (+)\n",
    "\n",
    "import pandas as pd\n",
    "\n",
    "series1 = pd.Series([1, 2, 3], index=['a', 'b', 'c'])\n",
    "series2 = pd.Series([4, 5, 6], index=['a', 'b', 'd'])\n",
    "sum_series = series1 + series2\n",
    "print(sum_series)\n"
   ]
  },
  {
   "cell_type": "code",
   "execution_count": 17,
   "id": "841e0110",
   "metadata": {},
   "outputs": [
    {
     "name": "stdout",
     "output_type": "stream",
     "text": [
      "a   -3.0\n",
      "b   -3.0\n",
      "c    NaN\n",
      "d    NaN\n",
      "dtype: float64\n"
     ]
    }
   ],
   "source": [
    "#Subtraction (-)\n",
    "sub_series = series1 - series2\n",
    "print(sub_series)\n"
   ]
  },
  {
   "cell_type": "code",
   "execution_count": 18,
   "id": "040d0f13",
   "metadata": {},
   "outputs": [
    {
     "name": "stdout",
     "output_type": "stream",
     "text": [
      "a     4.0\n",
      "b    10.0\n",
      "c     NaN\n",
      "d     NaN\n",
      "dtype: float64\n"
     ]
    }
   ],
   "source": [
    "#Multiplication (*)\n",
    "mul_series = series1 * series2\n",
    "print(mul_series)\n"
   ]
  },
  {
   "cell_type": "code",
   "execution_count": 19,
   "id": "e777f5fd",
   "metadata": {},
   "outputs": [
    {
     "name": "stdout",
     "output_type": "stream",
     "text": [
      "a    0.25\n",
      "b    0.40\n",
      "c     NaN\n",
      "d     NaN\n",
      "dtype: float64\n"
     ]
    }
   ],
   "source": [
    "#Division (/)\n",
    "div_series = series1 / series2\n",
    "print(div_series)\n"
   ]
  },
  {
   "cell_type": "markdown",
   "id": "6492ef0f",
   "metadata": {},
   "source": [
    "# Scalar Operations\n",
    "* You can also perform operations between a Series and a scalar value."
   ]
  },
  {
   "cell_type": "code",
   "execution_count": 20,
   "id": "d89144b1",
   "metadata": {},
   "outputs": [
    {
     "name": "stdout",
     "output_type": "stream",
     "text": [
      "a    6\n",
      "b    7\n",
      "c    8\n",
      "dtype: int64\n",
      "a   -1\n",
      "b    0\n",
      "c    1\n",
      "dtype: int64\n",
      "a    10\n",
      "b    20\n",
      "c    30\n",
      "dtype: int64\n",
      "a    0.5\n",
      "b    1.0\n",
      "c    1.5\n",
      "dtype: float64\n"
     ]
    }
   ],
   "source": [
    "add_scalar = series1 + 5\n",
    "print(add_scalar)\n",
    "\n",
    "sub_scalar = series1 - 2\n",
    "print(sub_scalar)\n",
    "\n",
    "mul_scalar = series1 * 10\n",
    "print(mul_scalar)\n",
    "\n",
    "div_scalar = series1 / 2\n",
    "print(div_scalar)\n"
   ]
  },
  {
   "cell_type": "markdown",
   "id": "b6420997",
   "metadata": {},
   "source": [
    "# Logical Operations\n",
    "* You can also perform element-wise logical operations on Series.\n",
    "\n",
    "* Comparison (==, !=, <, <=, >, >=)"
   ]
  },
  {
   "cell_type": "code",
   "execution_count": 24,
   "id": "cb41c476",
   "metadata": {},
   "outputs": [
    {
     "ename": "ValueError",
     "evalue": "Can only compare identically-labeled Series objects",
     "output_type": "error",
     "traceback": [
      "\u001b[1;31m---------------------------------------------------------------------------\u001b[0m",
      "\u001b[1;31mValueError\u001b[0m                                Traceback (most recent call last)",
      "Cell \u001b[1;32mIn[24], line 3\u001b[0m\n\u001b[0;32m      1\u001b[0m series1\n\u001b[0;32m      2\u001b[0m series2\n\u001b[1;32m----> 3\u001b[0m Total_series\u001b[38;5;241m=\u001b[39m \u001b[43mseries1\u001b[49m\u001b[43m \u001b[49m\u001b[38;5;241;43m==\u001b[39;49m\u001b[43m \u001b[49m\u001b[43mseries2\u001b[49m\n",
      "File \u001b[1;32m~\\anaconda3\\lib\\site-packages\\pandas\\core\\ops\\common.py:72\u001b[0m, in \u001b[0;36m_unpack_zerodim_and_defer.<locals>.new_method\u001b[1;34m(self, other)\u001b[0m\n\u001b[0;32m     68\u001b[0m             \u001b[38;5;28;01mreturn\u001b[39;00m \u001b[38;5;28mNotImplemented\u001b[39m\n\u001b[0;32m     70\u001b[0m other \u001b[38;5;241m=\u001b[39m item_from_zerodim(other)\n\u001b[1;32m---> 72\u001b[0m \u001b[38;5;28;01mreturn\u001b[39;00m \u001b[43mmethod\u001b[49m\u001b[43m(\u001b[49m\u001b[38;5;28;43mself\u001b[39;49m\u001b[43m,\u001b[49m\u001b[43m \u001b[49m\u001b[43mother\u001b[49m\u001b[43m)\u001b[49m\n",
      "File \u001b[1;32m~\\anaconda3\\lib\\site-packages\\pandas\\core\\arraylike.py:42\u001b[0m, in \u001b[0;36mOpsMixin.__eq__\u001b[1;34m(self, other)\u001b[0m\n\u001b[0;32m     40\u001b[0m \u001b[38;5;129m@unpack_zerodim_and_defer\u001b[39m(\u001b[38;5;124m\"\u001b[39m\u001b[38;5;124m__eq__\u001b[39m\u001b[38;5;124m\"\u001b[39m)\n\u001b[0;32m     41\u001b[0m \u001b[38;5;28;01mdef\u001b[39;00m \u001b[38;5;21m__eq__\u001b[39m(\u001b[38;5;28mself\u001b[39m, other):\n\u001b[1;32m---> 42\u001b[0m     \u001b[38;5;28;01mreturn\u001b[39;00m \u001b[38;5;28;43mself\u001b[39;49m\u001b[38;5;241;43m.\u001b[39;49m\u001b[43m_cmp_method\u001b[49m\u001b[43m(\u001b[49m\u001b[43mother\u001b[49m\u001b[43m,\u001b[49m\u001b[43m \u001b[49m\u001b[43moperator\u001b[49m\u001b[38;5;241;43m.\u001b[39;49m\u001b[43meq\u001b[49m\u001b[43m)\u001b[49m\n",
      "File \u001b[1;32m~\\anaconda3\\lib\\site-packages\\pandas\\core\\series.py:6237\u001b[0m, in \u001b[0;36mSeries._cmp_method\u001b[1;34m(self, other, op)\u001b[0m\n\u001b[0;32m   6234\u001b[0m res_name \u001b[38;5;241m=\u001b[39m ops\u001b[38;5;241m.\u001b[39mget_op_result_name(\u001b[38;5;28mself\u001b[39m, other)\n\u001b[0;32m   6236\u001b[0m \u001b[38;5;28;01mif\u001b[39;00m \u001b[38;5;28misinstance\u001b[39m(other, Series) \u001b[38;5;129;01mand\u001b[39;00m \u001b[38;5;129;01mnot\u001b[39;00m \u001b[38;5;28mself\u001b[39m\u001b[38;5;241m.\u001b[39m_indexed_same(other):\n\u001b[1;32m-> 6237\u001b[0m     \u001b[38;5;28;01mraise\u001b[39;00m \u001b[38;5;167;01mValueError\u001b[39;00m(\u001b[38;5;124m\"\u001b[39m\u001b[38;5;124mCan only compare identically-labeled Series objects\u001b[39m\u001b[38;5;124m\"\u001b[39m)\n\u001b[0;32m   6239\u001b[0m lvalues \u001b[38;5;241m=\u001b[39m \u001b[38;5;28mself\u001b[39m\u001b[38;5;241m.\u001b[39m_values\n\u001b[0;32m   6240\u001b[0m rvalues \u001b[38;5;241m=\u001b[39m extract_array(other, extract_numpy\u001b[38;5;241m=\u001b[39m\u001b[38;5;28;01mTrue\u001b[39;00m, extract_range\u001b[38;5;241m=\u001b[39m\u001b[38;5;28;01mTrue\u001b[39;00m)\n",
      "\u001b[1;31mValueError\u001b[0m: Can only compare identically-labeled Series objects"
     ]
    }
   ],
   "source": [
    "series1\n",
    "series2\n",
    "Total_series= series1 == series2"
   ]
  },
  {
   "cell_type": "markdown",
   "id": "16abfa5f",
   "metadata": {},
   "source": [
    "# Statistical Operations\n",
    "* Pandas Series has built-in methods for common statistical operations.\n",
    "\n",
    "* Descriptive Statistics"
   ]
  },
  {
   "cell_type": "code",
   "execution_count": 25,
   "id": "6c44420c",
   "metadata": {},
   "outputs": [
    {
     "name": "stdout",
     "output_type": "stream",
     "text": [
      "2.0\n",
      "2.0\n",
      "1.0\n",
      "1.0\n",
      "1\n",
      "3\n",
      "6\n",
      "a    1\n",
      "b    3\n",
      "c    6\n",
      "dtype: int64\n"
     ]
    }
   ],
   "source": [
    "print(series1.mean())    # Mean\n",
    "print(series1.median())  # Median\n",
    "print(series1.std())     # Standard deviation\n",
    "print(series1.var())     # Variance\n",
    "print(series1.min())     # Minimum value\n",
    "print(series1.max())     # Maximum value\n",
    "print(series1.sum())     # Sum of values\n",
    "print(series1.cumsum())  # Cumulative sum\n"
   ]
  },
  {
   "cell_type": "code",
   "execution_count": null,
   "id": "7e00bec2",
   "metadata": {},
   "outputs": [],
   "source": []
  }
 ],
 "metadata": {
  "kernelspec": {
   "display_name": "Python 3 (ipykernel)",
   "language": "python",
   "name": "python3"
  },
  "language_info": {
   "codemirror_mode": {
    "name": "ipython",
    "version": 3
   },
   "file_extension": ".py",
   "mimetype": "text/x-python",
   "name": "python",
   "nbconvert_exporter": "python",
   "pygments_lexer": "ipython3",
   "version": "3.10.9"
  }
 },
 "nbformat": 4,
 "nbformat_minor": 5
}
