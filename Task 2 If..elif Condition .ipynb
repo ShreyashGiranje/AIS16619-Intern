{
 "cells": [
  {
   "cell_type": "code",
   "execution_count": 1,
   "id": "7095e91a",
   "metadata": {},
   "outputs": [],
   "source": [
    "#Python If Elif\n",
    "\n",
    "#The elif keyword is pythons way of saying \"if the previous conditions were not true, then try this condition\"."
   ]
  },
  {
   "cell_type": "code",
   "execution_count": 3,
   "id": "c5ce58f0",
   "metadata": {},
   "outputs": [
    {
     "name": "stdout",
     "output_type": "stream",
     "text": [
      "a and b are equal\n"
     ]
    }
   ],
   "source": [
    "#Example\n",
    "a = 10\n",
    "b = 10\n",
    "if b > a:\n",
    "  print(\"b is greater than a\")\n",
    "elif a == b:\n",
    "  print(\"a and b are equal\")"
   ]
  },
  {
   "cell_type": "code",
   "execution_count": 6,
   "id": "08467d75",
   "metadata": {},
   "outputs": [
    {
     "name": "stdout",
     "output_type": "stream",
     "text": [
      "a is greater than b\n"
     ]
    }
   ],
   "source": [
    "#Example 2\n",
    "a = 100\n",
    "b = 10\n",
    "if b < a:\n",
    "  print(\"a is greater than b\")\n",
    "elif a == b:\n",
    "  print(\"a and b are equal\")"
   ]
  },
  {
   "cell_type": "code",
   "execution_count": 7,
   "id": "bda1d3a6",
   "metadata": {},
   "outputs": [
    {
     "name": "stdout",
     "output_type": "stream",
     "text": [
      "a is not equal to b\n"
     ]
    }
   ],
   "source": [
    "#Example 3\n",
    "a = 100\n",
    "b = 10\n",
    "if (a!=b):\n",
    "  print(\"a is not equal to b\")\n",
    "elif (a==b):\n",
    "  print(\"a and b are equal\")"
   ]
  },
  {
   "cell_type": "code",
   "execution_count": 9,
   "id": "454e461e",
   "metadata": {},
   "outputs": [
    {
     "name": "stdout",
     "output_type": "stream",
     "text": [
      "Sum is correct\n"
     ]
    }
   ],
   "source": [
    "#Example 4\n",
    "a = 100\n",
    "b = 10\n",
    "if (a+b==110):\n",
    "    print(\"Sum is correct\")\n",
    "elif (a+b != 110):\n",
    "    print(\"Sum is wrong\")"
   ]
  },
  {
   "cell_type": "code",
   "execution_count": 10,
   "id": "4277ea1c",
   "metadata": {},
   "outputs": [
    {
     "name": "stdout",
     "output_type": "stream",
     "text": [
      "Sum is wrong\n"
     ]
    }
   ],
   "source": [
    "#Example 5\n",
    "a = 100\n",
    "b = 1\n",
    "if (a+b==110):\n",
    "    print(\"Sum is correct\")\n",
    "elif (a+b != 110):\n",
    "    print(\"Sum is wrong\")"
   ]
  },
  {
   "cell_type": "code",
   "execution_count": 2,
   "id": "809dd6df",
   "metadata": {},
   "outputs": [
    {
     "name": "stdout",
     "output_type": "stream",
     "text": [
      "x is equal to 5\n"
     ]
    }
   ],
   "source": [
    "#example 6\n",
    "x = 5\n",
    "if x > 5:\n",
    "    print(\"x is greater than 5\")\n",
    "elif x == 5:\n",
    "    print(\"x is equal to 5\")\n"
   ]
  },
  {
   "cell_type": "code",
   "execution_count": 5,
   "id": "2ab0d480",
   "metadata": {},
   "outputs": [
    {
     "name": "stdout",
     "output_type": "stream",
     "text": [
      "Good\n"
     ]
    }
   ],
   "source": [
    "#example 7\n",
    "marks = 72\n",
    "\n",
    "if marks >= 90:\n",
    "    print(\"Excellent\")\n",
    "elif marks >= 75:\n",
    "    print(\"Very Good\")\n",
    "elif marks >= 60:\n",
    "    print(\"Good\")\n",
    "elif marks >= 50:\n",
    "    print(\"Pass\")\n"
   ]
  },
  {
   "cell_type": "code",
   "execution_count": 6,
   "id": "9d721209",
   "metadata": {},
   "outputs": [
    {
     "name": "stdout",
     "output_type": "stream",
     "text": [
      "Within limit\n"
     ]
    }
   ],
   "source": [
    "#example 8 \n",
    "speed = 45\n",
    "\n",
    "if speed > 70:\n",
    "    print(\"Speeding - Fine applicable\")\n",
    "elif speed > 60:\n",
    "    print(\"Above limit, but no fine\")\n",
    "elif speed > 40:\n",
    "    print(\"Within limit\")\n",
    "elif speed > 20:\n",
    "    print(\"Below limit\")\n"
   ]
  },
  {
   "cell_type": "code",
   "execution_count": 8,
   "id": "6a41b451",
   "metadata": {},
   "outputs": [
    {
     "name": "stdout",
     "output_type": "stream",
     "text": [
      "z is greater than 20 but less than 30\n"
     ]
    }
   ],
   "source": [
    "#example 9\n",
    "z = 25\n",
    "\n",
    "if z > 30:\n",
    "    print(\"z is greater than 30\")\n",
    "elif z > 20:\n",
    "    print(\"z is greater than 20 but less than 30\")\n",
    "elif z > 10:\n",
    "    print(\"z is greater than 10 but less than or equal to 20\")\n"
   ]
  },
  {
   "cell_type": "code",
   "execution_count": 10,
   "id": "6329dff0",
   "metadata": {},
   "outputs": [
    {
     "name": "stdout",
     "output_type": "stream",
     "text": [
      "x is greater than 5 but less than 15\n"
     ]
    }
   ],
   "source": [
    "#example 10\n",
    "x = 10\n",
    "\n",
    "if x > 15:\n",
    "    print(\"x is greater than 15\")\n",
    "elif x > 5:\n",
    "    print(\"x is greater than 5 but less than 15\")\n"
   ]
  },
  {
   "cell_type": "code",
   "execution_count": null,
   "id": "c4d98237",
   "metadata": {},
   "outputs": [],
   "source": []
  }
 ],
 "metadata": {
  "kernelspec": {
   "display_name": "Python 3 (ipykernel)",
   "language": "python",
   "name": "python3"
  },
  "language_info": {
   "codemirror_mode": {
    "name": "ipython",
    "version": 3
   },
   "file_extension": ".py",
   "mimetype": "text/x-python",
   "name": "python",
   "nbconvert_exporter": "python",
   "pygments_lexer": "ipython3",
   "version": "3.10.9"
  }
 },
 "nbformat": 4,
 "nbformat_minor": 5
}
