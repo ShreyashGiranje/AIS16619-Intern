{
 "cells": [
  {
   "cell_type": "markdown",
   "id": "3e42f062",
   "metadata": {},
   "source": [
    "# Python Pandas DataFrame\n",
    "\n",
    "Pandas DataFrame is two-dimensional size-mutable, potentially heterogeneous tabular data structure with labeled axes (rows and columns). A Data frame is a two-dimensional data structure, i.e., data is aligned in a tabular fashion in rows and columns. Pandas DataFrame consists of three principal components, the data, rows, and columns."
   ]
  },
  {
   "cell_type": "markdown",
   "id": "936f8e85",
   "metadata": {},
   "source": [
    "# Creating a DataFrame\n"
   ]
  },
  {
   "cell_type": "markdown",
   "id": "ec84d72c",
   "metadata": {},
   "source": [
    "# 1. Creating a DataFrame from a Dictionary\n",
    "When you create a DataFrame from a dictionary, the keys become the column labels, and the values become the data."
   ]
  },
  {
   "cell_type": "code",
   "execution_count": 4,
   "id": "3710313e",
   "metadata": {},
   "outputs": [
    {
     "name": "stdout",
     "output_type": "stream",
     "text": [
      "DataFrame from dictionary:\n",
      "       Name  Age      City\n",
      "0  Shreyash   22     Kasba\n",
      "1     Nisha   23     Daund\n",
      "2    Snehal   22  Baramati\n",
      "3  Sunayana   21  Baramati\n",
      "4  Utkarsha   23  Baramati\n"
     ]
    }
   ],
   "source": [
    "import pandas as pd\n",
    "\n",
    "data = {\n",
    "    'Name': ['Shreyash', 'Nisha', 'Snehal','Sunayana','Utkarsha'],\n",
    "    'Age': [22, 23, 22, 21, 23],\n",
    "    'City': ['Kasba', 'Daund', 'Baramati', 'Baramati','Baramati']\n",
    "}\n",
    "\n",
    "df_dict = pd.DataFrame(data)\n",
    "print(\"DataFrame from dictionary:\")\n",
    "print(df_dict)\n"
   ]
  },
  {
   "cell_type": "markdown",
   "id": "f5b919e4",
   "metadata": {},
   "source": [
    "# 2. Creating a DataFrame from a Matrix (2D Array)\n",
    "You can create a DataFrame from a NumPy array (matrix) by specifying the column names."
   ]
  },
  {
   "cell_type": "code",
   "execution_count": 5,
   "id": "70e5ae5d",
   "metadata": {},
   "outputs": [
    {
     "name": "stdout",
     "output_type": "stream",
     "text": [
      "\n",
      "DataFrame from matrix:\n",
      "       Name Age      City\n",
      "0  Shreyash  22     Kasba\n",
      "1     Nisha  23     Daund\n",
      "2      Yash  35  Baramati\n"
     ]
    }
   ],
   "source": [
    "import pandas as pd\n",
    "import numpy as np\n",
    "\n",
    "data = np.array([\n",
    "    ['Shreyash', 22, 'Kasba'],\n",
    "    ['Nisha', 23, 'Daund'],\n",
    "    ['Yash', 35, 'Baramati']\n",
    "])\n",
    "\n",
    "columns = ['Name', 'Age', 'City']\n",
    "\n",
    "df_matrix = pd.DataFrame(data, columns=columns)\n",
    "print(\"\\nDataFrame from matrix:\")\n",
    "print(df_matrix)\n"
   ]
  },
  {
   "cell_type": "markdown",
   "id": "ca0b5873",
   "metadata": {},
   "source": [
    "# 3.Combining DataFrames Created from Dictionary and Matrix\n",
    "You can combine these DataFrames if needed using the pd.concat method. Here’s how you can combine the two DataFrames we created:"
   ]
  },
  {
   "cell_type": "code",
   "execution_count": 6,
   "id": "38903cb2",
   "metadata": {},
   "outputs": [
    {
     "name": "stdout",
     "output_type": "stream",
     "text": [
      "\n",
      "Combined DataFrame:\n",
      "       Name Age      City\n",
      "0  Shreyash  22     Kasba\n",
      "1     Nisha  23     Daund\n",
      "2    Snehal  22  Baramati\n",
      "3  Sunayana  21  Baramati\n",
      "4  Utkarsha  23  Baramati\n",
      "5  Shreyash  22     Kasba\n",
      "6     Nisha  23     Daund\n",
      "7      Yash  35  Baramati\n"
     ]
    }
   ],
   "source": [
    "df_combined = pd.concat([df_dict, df_matrix], ignore_index=True)\n",
    "print(\"\\nCombined DataFrame:\")\n",
    "print(df_combined)\n"
   ]
  },
  {
   "cell_type": "markdown",
   "id": "b2089eef",
   "metadata": {},
   "source": [
    "# 4. By read.csv"
   ]
  },
  {
   "cell_type": "code",
   "execution_count": 4,
   "id": "119ce27d",
   "metadata": {},
   "outputs": [
    {
     "name": "stdout",
     "output_type": "stream",
     "text": [
      "   x   y    z\n",
      "0  1  12  123\n",
      "1  2  23  234\n",
      "2  3  34  345\n",
      "3  4  45  456\n",
      "4  5  56  567\n"
     ]
    }
   ],
   "source": [
    "import pandas as pd\n",
    "# Read a CSV file into a DataFrame\n",
    "df_csv = pd.read_csv(\"C:/Users/shree/OneDrive/Desktop/Xlsx.csv\")\n",
    "# Display the DataFrame\n",
    "print(df_csv)"
   ]
  },
  {
   "cell_type": "markdown",
   "id": "c6e3d616",
   "metadata": {},
   "source": [
    "# 5. By xlsx file"
   ]
  },
  {
   "cell_type": "code",
   "execution_count": 9,
   "id": "b72a525c",
   "metadata": {},
   "outputs": [
    {
     "name": "stdout",
     "output_type": "stream",
     "text": [
      "   x   Y\n",
      "0  1  12\n",
      "1  2   1\n",
      "2  3  12\n",
      "3  4  12\n",
      "4  5  12\n"
     ]
    }
   ],
   "source": [
    "import pandas as pd\n",
    "# Read an Excel file into a DataFrame\n",
    "df_excel = pd.read_excel(\"C:/Users/shree/OneDrive/Desktop/xlsx.xlsx\")\n",
    "# Display the DataFrame\n",
    "print(df_excel)"
   ]
  },
  {
   "cell_type": "code",
   "execution_count": null,
   "id": "725990f0",
   "metadata": {},
   "outputs": [],
   "source": []
  }
 ],
 "metadata": {
  "kernelspec": {
   "display_name": "Python 3 (ipykernel)",
   "language": "python",
   "name": "python3"
  },
  "language_info": {
   "codemirror_mode": {
    "name": "ipython",
    "version": 3
   },
   "file_extension": ".py",
   "mimetype": "text/x-python",
   "name": "python",
   "nbconvert_exporter": "python",
   "pygments_lexer": "ipython3",
   "version": "3.10.9"
  }
 },
 "nbformat": 4,
 "nbformat_minor": 5
}
