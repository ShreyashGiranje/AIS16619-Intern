{
 "cells": [
  {
   "cell_type": "markdown",
   "id": "c2e20cec",
   "metadata": {},
   "source": [
    "# Pass Statement "
   ]
  },
  {
   "cell_type": "markdown",
   "id": "4473b114",
   "metadata": {},
   "source": [
    "Definition and Usage:\n",
    "\n",
    "\n",
    "The pass statement is used as a placeholder for future code.\n",
    "\n",
    "When the pass statement is executed, nothing happens, but you avoid getting an error when empty code is not allowed.\n",
    "\n",
    "Empty code is not allowed in loops, function definitions, class definitions, or in if statements."
   ]
  },
  {
   "cell_type": "code",
   "execution_count": 1,
   "id": "a1530742",
   "metadata": {},
   "outputs": [],
   "source": [
    "#Example 1\n",
    "#Using the pass keyword in a function definition:"
   ]
  },
  {
   "cell_type": "code",
   "execution_count": 2,
   "id": "84a9fdf3",
   "metadata": {},
   "outputs": [],
   "source": [
    "def myfunction():\n",
    "    pass                   # This function does nothing (yet)"
   ]
  },
  {
   "cell_type": "code",
   "execution_count": 3,
   "id": "863f67d0",
   "metadata": {},
   "outputs": [],
   "source": [
    "#Example 2 \n",
    "#Using the pass keyword in a class definition:"
   ]
  },
  {
   "cell_type": "code",
   "execution_count": 4,
   "id": "d29e808a",
   "metadata": {},
   "outputs": [],
   "source": [
    "class Person:\n",
    "    pass                   # This class does nothing (yet)"
   ]
  },
  {
   "cell_type": "code",
   "execution_count": 5,
   "id": "443b411d",
   "metadata": {},
   "outputs": [],
   "source": [
    "#Example 3\n",
    "#Using the pass keyword in an if statement:"
   ]
  },
  {
   "cell_type": "code",
   "execution_count": 7,
   "id": "8f824822",
   "metadata": {},
   "outputs": [],
   "source": [
    "a = 33\n",
    "b = 200\n",
    "\n",
    "if b > a:\n",
    "    pass"
   ]
  },
  {
   "cell_type": "code",
   "execution_count": null,
   "id": "2c443b0d",
   "metadata": {},
   "outputs": [],
   "source": []
  }
 ],
 "metadata": {
  "kernelspec": {
   "display_name": "Python 3 (ipykernel)",
   "language": "python",
   "name": "python3"
  },
  "language_info": {
   "codemirror_mode": {
    "name": "ipython",
    "version": 3
   },
   "file_extension": ".py",
   "mimetype": "text/x-python",
   "name": "python",
   "nbconvert_exporter": "python",
   "pygments_lexer": "ipython3",
   "version": "3.10.9"
  }
 },
 "nbformat": 4,
 "nbformat_minor": 5
}
