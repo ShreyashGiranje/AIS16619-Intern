{
 "cells": [
  {
   "cell_type": "code",
   "execution_count": 1,
   "id": "aaaeace8",
   "metadata": {},
   "outputs": [],
   "source": [
    "#if...else syntax Python\n",
    "\n",
    "#if (condition):\n",
    "    # Executes this block if condition is true\n",
    "#else:\n",
    "    # Executes this block if condition is false"
   ]
  },
  {
   "cell_type": "code",
   "execution_count": null,
   "id": "f7dfccfc",
   "metadata": {},
   "outputs": [],
   "source": [
    "#Python supports the usual logical conditions from mathematics:\n",
    "\n",
    "#Equals: a == b\n",
    "#Not Equals: a != b\n",
    "#Less than: a < b\n",
    "#Less than or equal to: a <= b\n",
    "#Greater than: a > b\n",
    "#Greater than or equal to: a >= b\n",
    "#These conditions can be used in several ways, most commonly in \"if...else statements\" and loops."
   ]
  },
  {
   "cell_type": "code",
   "execution_count": 3,
   "id": "0389bbc7",
   "metadata": {},
   "outputs": [
    {
     "name": "stdout",
     "output_type": "stream",
     "text": [
      "Contratulations :)\n"
     ]
    }
   ],
   "source": [
    "#example 1\n",
    "# To pass in exam earn atleast 40 marks\n",
    "\n",
    "a = 50\n",
    "if (a >= 40):\n",
    "    print(\"Contratulations :)\")\n",
    "else:\n",
    "    print(\"Better Luck Next Time :(\")"
   ]
  },
  {
   "cell_type": "code",
   "execution_count": 4,
   "id": "146a756d",
   "metadata": {},
   "outputs": [
    {
     "name": "stdout",
     "output_type": "stream",
     "text": [
      "Better Luck Next Time :(\n"
     ]
    }
   ],
   "source": [
    "#example 2\n",
    "a = 35\n",
    "if (a >= 40):\n",
    "    print(\"Contratulations :)\")\n",
    "else:\n",
    "    print(\"Better Luck Next Time :(\")"
   ]
  },
  {
   "cell_type": "code",
   "execution_count": 6,
   "id": "1a48b172",
   "metadata": {},
   "outputs": [
    {
     "name": "stdout",
     "output_type": "stream",
     "text": [
      "You are Shreyash\n"
     ]
    }
   ],
   "source": [
    "#example 3\n",
    "A = \"Shreyash\"\n",
    "\n",
    "if (A == \"Shreyash\"):\n",
    "    print(\"You are Shreyash\")\n",
    "else:\n",
    "    print(\"You are not Shreyash\")"
   ]
  },
  {
   "cell_type": "code",
   "execution_count": 7,
   "id": "f4924478",
   "metadata": {},
   "outputs": [
    {
     "name": "stdout",
     "output_type": "stream",
     "text": [
      "You are not Shreyash\n"
     ]
    }
   ],
   "source": [
    "#example 4\n",
    "A = \"Yash\"\n",
    "\n",
    "if (A == \"Shreyash\"):\n",
    "    print(\"You are Shreyash\")\n",
    "else:\n",
    "    print(\"You are not Shreyash\")"
   ]
  },
  {
   "cell_type": "code",
   "execution_count": 8,
   "id": "516fcbf1",
   "metadata": {},
   "outputs": [
    {
     "name": "stdout",
     "output_type": "stream",
     "text": [
      "You Lose the Game\n"
     ]
    }
   ],
   "source": [
    "#example 5\n",
    "a = 100\n",
    "b = 101\n",
    "\n",
    "if (a > b):\n",
    "    print(\"You Win the Game\")\n",
    "else:\n",
    "    print(\"You Lose the Game\")"
   ]
  },
  {
   "cell_type": "code",
   "execution_count": 9,
   "id": "675b0c5a",
   "metadata": {},
   "outputs": [
    {
     "name": "stdout",
     "output_type": "stream",
     "text": [
      "You Win the Game\n"
     ]
    }
   ],
   "source": [
    "#example 6\n",
    "a = 110\n",
    "b = 101\n",
    "\n",
    "if (a > b):\n",
    "    print(\"You Win the Game\")\n",
    "else:\n",
    "    print(\"You Lose the Game\")"
   ]
  },
  {
   "cell_type": "code",
   "execution_count": 10,
   "id": "bd0888f8",
   "metadata": {},
   "outputs": [
    {
     "name": "stdout",
     "output_type": "stream",
     "text": [
      "Sum is correct\n"
     ]
    }
   ],
   "source": [
    "#example 7\n",
    "a = 10\n",
    "b = 5\n",
    "\n",
    "if (a+b==15):\n",
    "    print(\"Sum is correct\")\n",
    "else:\n",
    "    print(\"Sum is wrong\")"
   ]
  },
  {
   "cell_type": "code",
   "execution_count": 11,
   "id": "e9689224",
   "metadata": {},
   "outputs": [
    {
     "name": "stdout",
     "output_type": "stream",
     "text": [
      "Sum is wrong\n"
     ]
    }
   ],
   "source": [
    "#example 8\n",
    "a = 10\n",
    "b = 10\n",
    "\n",
    "if (a+b==15):\n",
    "    print(\"Sum is correct\")\n",
    "else:\n",
    "    print(\"Sum is wrong\")"
   ]
  },
  {
   "cell_type": "code",
   "execution_count": 12,
   "id": "05bab68c",
   "metadata": {},
   "outputs": [
    {
     "name": "stdout",
     "output_type": "stream",
     "text": [
      "Multi is correct\n"
     ]
    }
   ],
   "source": [
    "#example 9\n",
    "a = 10\n",
    "b = 5\n",
    "\n",
    "if (a*b==50):\n",
    "    print(\"Multi is correct\")\n",
    "else:\n",
    "    print(\"Multi is wrong\")"
   ]
  },
  {
   "cell_type": "code",
   "execution_count": 13,
   "id": "97bf03e0",
   "metadata": {},
   "outputs": [
    {
     "name": "stdout",
     "output_type": "stream",
     "text": [
      "Multi is wrong\n"
     ]
    }
   ],
   "source": [
    "#example 10\n",
    "a = 1\n",
    "b = 5\n",
    "\n",
    "if (a*b==50):\n",
    "    print(\"Multi is correct\")\n",
    "else:\n",
    "    print(\"Multi is wrong\")"
   ]
  },
  {
   "cell_type": "code",
   "execution_count": null,
   "id": "a44ef504",
   "metadata": {},
   "outputs": [],
   "source": []
  }
 ],
 "metadata": {
  "kernelspec": {
   "display_name": "Python 3 (ipykernel)",
   "language": "python",
   "name": "python3"
  },
  "language_info": {
   "codemirror_mode": {
    "name": "ipython",
    "version": 3
   },
   "file_extension": ".py",
   "mimetype": "text/x-python",
   "name": "python",
   "nbconvert_exporter": "python",
   "pygments_lexer": "ipython3",
   "version": "3.10.9"
  }
 },
 "nbformat": 4,
 "nbformat_minor": 5
}
