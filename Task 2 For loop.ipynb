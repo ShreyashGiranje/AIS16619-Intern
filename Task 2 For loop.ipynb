{
 "cells": [
  {
   "cell_type": "code",
   "execution_count": 1,
   "id": "64d27ee5",
   "metadata": {},
   "outputs": [],
   "source": [
    "#Python For Loops\n",
    "#A for loop is used for iterating over a sequence (that is either a list, a tuple, a dictionary, a set, or a string).\n",
    "\n",
    "#This is less like the for keyword in other programming languages, and \n",
    "#works more like an iterator method as found in other object-orientated programming languages.\n",
    "#With the for loop we can execute a set of statements, once for each item in a list, tuple, set etc."
   ]
  },
  {
   "cell_type": "code",
   "execution_count": 2,
   "id": "d1e1ea6b",
   "metadata": {},
   "outputs": [
    {
     "name": "stdout",
     "output_type": "stream",
     "text": [
      "apple\n",
      "banana\n",
      "cherry\n"
     ]
    }
   ],
   "source": [
    "#Example\n",
    "#Print each fruit in a fruit list:\n",
    "\n",
    "fruits = [\"apple\", \"banana\", \"cherry\"]\n",
    "for x in fruits:\n",
    "    print(x)\n"
   ]
  },
  {
   "cell_type": "code",
   "execution_count": 3,
   "id": "9669de9e",
   "metadata": {},
   "outputs": [
    {
     "name": "stdout",
     "output_type": "stream",
     "text": [
      "1\n",
      "2\n",
      "3\n",
      "4\n",
      "5\n"
     ]
    }
   ],
   "source": [
    "#example 2\n",
    "a=[1,2,3,4,5]\n",
    "\n",
    "for x in a:\n",
    "    print(x)"
   ]
  },
  {
   "cell_type": "code",
   "execution_count": 8,
   "id": "8f59b593",
   "metadata": {},
   "outputs": [
    {
     "name": "stdout",
     "output_type": "stream",
     "text": [
      "b\n",
      "a\n",
      "n\n",
      "a\n",
      "n\n",
      "a\n"
     ]
    }
   ],
   "source": [
    "#Looping Through a String\n",
    "#Even strings are iterable objects, they contain a sequence of characters:\n",
    "\n",
    "#Example 3\n",
    "#Loop through the letters in the word \"banana\":\n",
    "\n",
    "for x in \"banana\":\n",
    "    print(x)"
   ]
  },
  {
   "cell_type": "code",
   "execution_count": 9,
   "id": "ad237535",
   "metadata": {},
   "outputs": [
    {
     "name": "stdout",
     "output_type": "stream",
     "text": [
      "Y\n",
      "a\n",
      "s\n",
      "h\n"
     ]
    }
   ],
   "source": [
    "#example 4\n",
    "for x in \"Yash\":\n",
    "    print(x)"
   ]
  },
  {
   "cell_type": "code",
   "execution_count": 15,
   "id": "847843a9",
   "metadata": {},
   "outputs": [
    {
     "name": "stdout",
     "output_type": "stream",
     "text": [
      "Yash\n",
      "Shree\n"
     ]
    }
   ],
   "source": [
    "#The break Statement:\n",
    "#With the break statement we can stop the loop before it has looped through all the items:\n",
    "\n",
    "#Example 5\n",
    "#Exit the loop when x is \"Shree\":\n",
    "\n",
    "A = [\"Yash\", \"Shree\", \"Shreyash\"]\n",
    "for x in A:\n",
    "    print(x)\n",
    "    if x == \"Shree\":\n",
    "        break"
   ]
  },
  {
   "cell_type": "code",
   "execution_count": 21,
   "id": "b19de30c",
   "metadata": {},
   "outputs": [
    {
     "name": "stdout",
     "output_type": "stream",
     "text": [
      "Yash\n"
     ]
    }
   ],
   "source": [
    "#Example 6\n",
    "#Exit the loop when x is \"Shree\", but this time the break comes before the print:\n",
    "\n",
    "A = [\"Yash\", \"Shree\", \"Shreyash\"]\n",
    "for x in A:\n",
    "    if x == \"Shree\":\n",
    "        break\n",
    "    print(x)"
   ]
  },
  {
   "cell_type": "code",
   "execution_count": 23,
   "id": "526f822c",
   "metadata": {},
   "outputs": [
    {
     "name": "stdout",
     "output_type": "stream",
     "text": [
      "Yash\n",
      "Shreyash\n"
     ]
    }
   ],
   "source": [
    "#The continue Statement:\n",
    "#With the continue statement we can stop the current iteration of the loop, and continue with the next:\n",
    "\n",
    "#Example 7\n",
    "#Do not print Shree:\n",
    "\n",
    "A = [\"Yash\", \"Shree\", \"Shreyash\"]\n",
    "for x in A:\n",
    "    if x == \"Shree\":\n",
    "        continue\n",
    "    print(x)\n"
   ]
  },
  {
   "cell_type": "code",
   "execution_count": 24,
   "id": "c098b79a",
   "metadata": {},
   "outputs": [
    {
     "name": "stdout",
     "output_type": "stream",
     "text": [
      "0\n",
      "1\n",
      "2\n",
      "3\n",
      "4\n",
      "5\n"
     ]
    }
   ],
   "source": [
    "#The range() Function:\n",
    "#To loop through a set of code a specified number of times, we can use the range() function,\n",
    "#The range() function returns a sequence of numbers, starting from 0 by default, and \n",
    "#increments by 1 (by default), and ends at a specified number.\n",
    "\n",
    "#The range() function defaults to 0 as a starting value\n",
    "\n",
    "#Example 8\n",
    "#Using the range() function:\n",
    "\n",
    "for x in range(6):\n",
    "    print(x)"
   ]
  },
  {
   "cell_type": "code",
   "execution_count": 26,
   "id": "d6f102d7",
   "metadata": {},
   "outputs": [
    {
     "name": "stdout",
     "output_type": "stream",
     "text": [
      "2\n",
      "3\n",
      "4\n",
      "5\n"
     ]
    }
   ],
   "source": [
    "#however it is possible to specify the starting value \n",
    "#by adding a parameter: range(2, 6), which means values from 2 to 6 (but not including 6):\n",
    "\n",
    "#Example 9\n",
    "#Using the start parameter:\n",
    "\n",
    "for x in range(2, 6):\n",
    "    print(x)"
   ]
  },
  {
   "cell_type": "code",
   "execution_count": 27,
   "id": "e13b4dbb",
   "metadata": {},
   "outputs": [
    {
     "name": "stdout",
     "output_type": "stream",
     "text": [
      "2\n",
      "5\n",
      "8\n",
      "11\n",
      "14\n",
      "17\n",
      "20\n",
      "23\n",
      "26\n",
      "29\n"
     ]
    }
   ],
   "source": [
    "#The range() function defaults to increment the sequence by 1, \n",
    "#however it is possible to specify the increment value by adding a third parameter: range(2, 30, 3):\n",
    "\n",
    "#Example 10\n",
    "#Increment the sequence with 3 (default is 1):\n",
    "\n",
    "for x in range(2, 30, 3):\n",
    "    print(x)"
   ]
  },
  {
   "cell_type": "code",
   "execution_count": null,
   "id": "36c7de4b",
   "metadata": {},
   "outputs": [],
   "source": []
  }
 ],
 "metadata": {
  "kernelspec": {
   "display_name": "Python 3 (ipykernel)",
   "language": "python",
   "name": "python3"
  },
  "language_info": {
   "codemirror_mode": {
    "name": "ipython",
    "version": 3
   },
   "file_extension": ".py",
   "mimetype": "text/x-python",
   "name": "python",
   "nbconvert_exporter": "python",
   "pygments_lexer": "ipython3",
   "version": "3.10.9"
  }
 },
 "nbformat": 4,
 "nbformat_minor": 5
}
