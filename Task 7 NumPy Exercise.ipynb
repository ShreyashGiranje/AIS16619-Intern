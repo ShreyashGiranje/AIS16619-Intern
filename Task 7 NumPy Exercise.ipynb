{
 "cells": [
  {
   "cell_type": "markdown",
   "id": "69a4b6f0",
   "metadata": {},
   "source": [
    "# Exercise "
   ]
  },
  {
   "cell_type": "markdown",
   "id": "6a334371",
   "metadata": {},
   "source": [
    "1. Create an array of 10 zeros"
   ]
  },
  {
   "cell_type": "code",
   "execution_count": 26,
   "id": "2609e6fd",
   "metadata": {},
   "outputs": [
    {
     "name": "stdout",
     "output_type": "stream",
     "text": [
      "[0. 0. 0. 0. 0. 0. 0. 0. 0. 0.]\n"
     ]
    }
   ],
   "source": [
    "import numpy as np\n",
    "\n",
    "# Creating an array of 10 zeros\n",
    "array= np.zeros(10)\n",
    "print(array)"
   ]
  },
  {
   "cell_type": "markdown",
   "id": "e04896f1",
   "metadata": {},
   "source": [
    "2. Create an array of 10 ones"
   ]
  },
  {
   "cell_type": "code",
   "execution_count": 2,
   "id": "55786792",
   "metadata": {},
   "outputs": [
    {
     "name": "stdout",
     "output_type": "stream",
     "text": [
      "[1. 1. 1. 1. 1. 1. 1. 1. 1. 1.]\n"
     ]
    }
   ],
   "source": [
    "import numpy as np\n",
    "\n",
    "# Creating an array of 10 ones\n",
    "array_of_ones = np.ones(10)\n",
    "print(array_of_ones)"
   ]
  },
  {
   "cell_type": "markdown",
   "id": "a73f961c",
   "metadata": {},
   "source": [
    "3. Create an array of 10 fives"
   ]
  },
  {
   "cell_type": "code",
   "execution_count": 4,
   "id": "8298c1fa",
   "metadata": {},
   "outputs": [
    {
     "name": "stdout",
     "output_type": "stream",
     "text": [
      "[5 5 5 5 5 5 5 5 5 5]\n"
     ]
    }
   ],
   "source": [
    "import numpy as np\n",
    "\n",
    "# Creating an array of 10 Fives\n",
    "array_five = np.full(10, 5)\n",
    "print(array_five)"
   ]
  },
  {
   "cell_type": "markdown",
   "id": "cb29bc7d",
   "metadata": {},
   "source": [
    "4. Create an array of the integers from 10 to 50"
   ]
  },
  {
   "cell_type": "code",
   "execution_count": 7,
   "id": "18e88404",
   "metadata": {},
   "outputs": [
    {
     "name": "stdout",
     "output_type": "stream",
     "text": [
      "[10 11 12 13 14 15 16 17 18 19 20 21 22 23 24 25 26 27 28 29 30 31 32 33\n",
      " 34 35 36 37 38 39 40 41 42 43 44 45 46 47 48 49 50]\n"
     ]
    }
   ],
   "source": [
    "import numpy as np\n",
    "\n",
    "# Creating an array of integers from 10 to 50\n",
    "array_int = np.arange(10, 51)\n",
    "print(array_int)"
   ]
  },
  {
   "cell_type": "markdown",
   "id": "48520c92",
   "metadata": {},
   "source": [
    "5.Create an array of all the even integers from 10 to 50"
   ]
  },
  {
   "cell_type": "code",
   "execution_count": 8,
   "id": "a5d8bde1",
   "metadata": {},
   "outputs": [
    {
     "name": "stdout",
     "output_type": "stream",
     "text": [
      "[10 12 14 16 18 20 22 24 26 28 30 32 34 36 38 40 42 44 46 48 50]\n"
     ]
    }
   ],
   "source": [
    "import numpy as np\n",
    "\n",
    "# Creating an array of all the even integers from 10 to 50\n",
    "array_even_int = np.arange(10, 51, 2)\n",
    "print(array_even_int)"
   ]
  },
  {
   "cell_type": "markdown",
   "id": "ef77a90a",
   "metadata": {},
   "source": [
    "6.Create a 3x3 matrix with values ranging from 0 to 8"
   ]
  },
  {
   "cell_type": "code",
   "execution_count": 12,
   "id": "364962da",
   "metadata": {},
   "outputs": [
    {
     "name": "stdout",
     "output_type": "stream",
     "text": [
      "[[0 1 2]\n",
      " [3 4 5]\n",
      " [6 7 8]]\n"
     ]
    }
   ],
   "source": [
    "import numpy as np\n",
    "\n",
    "# Creating a 3x3 matrix with values ranging from 0 to 8\n",
    "matrix_3x3 = np.arange(9).reshape(3, 3)\n",
    "print(matrix_3x3)"
   ]
  },
  {
   "cell_type": "markdown",
   "id": "9739a6fd",
   "metadata": {},
   "source": [
    "7.Create a 3x3 identity matrix"
   ]
  },
  {
   "cell_type": "code",
   "execution_count": 16,
   "id": "47c066c8",
   "metadata": {},
   "outputs": [
    {
     "name": "stdout",
     "output_type": "stream",
     "text": [
      "[[1. 0. 0.]\n",
      " [0. 1. 0.]\n",
      " [0. 0. 1.]]\n"
     ]
    }
   ],
   "source": [
    "import numpy as np\n",
    "\n",
    "# Creating a 3x3 identity matrix\n",
    "iden_matrix_3x3 = np.eye(3)\n",
    "print(iden_matrix_3x3)"
   ]
  },
  {
   "cell_type": "markdown",
   "id": "579e559c",
   "metadata": {},
   "source": [
    "8. Use NumPy to generate a random number between 0 and 1"
   ]
  },
  {
   "cell_type": "code",
   "execution_count": 21,
   "id": "6fedd8a6",
   "metadata": {},
   "outputs": [
    {
     "name": "stdout",
     "output_type": "stream",
     "text": [
      "0.7144051882781078\n"
     ]
    }
   ],
   "source": [
    "import numpy as np\n",
    "\n",
    "# Generating a random number between 0 and 1\n",
    "random_number = np.random.rand()\n",
    "print(random_number)\n"
   ]
  },
  {
   "cell_type": "markdown",
   "id": "622fffec",
   "metadata": {},
   "source": [
    "9. Use NumPy to generate an array of 25 random numbers sampled from a standard normal distribution\n",
    "\n",
    "* np.random.randn(25) generates an array of 25 random numbers sampled from a standard normal distribution (mean 0, standard deviation 1)."
   ]
  },
  {
   "cell_type": "code",
   "execution_count": 22,
   "id": "94a2bb30",
   "metadata": {},
   "outputs": [
    {
     "name": "stdout",
     "output_type": "stream",
     "text": [
      "[ 1.12489949  0.16582642  0.81565117  0.65603404 -0.89814538  1.22458909\n",
      " -2.04976714 -0.32814823  0.51596501 -0.99472561 -1.47766586 -1.35454403\n",
      " -0.390171    0.82264386 -1.32667775  0.11512627  0.54615475 -0.39437299\n",
      " -0.63499049  0.71655002 -1.3748658   0.15021027 -0.01835973  0.03911151\n",
      " -1.36552584]\n"
     ]
    }
   ],
   "source": [
    "import numpy as np\n",
    "\n",
    "# Generating an array of 25 random numbers sampled from a standard normal distribution\n",
    "random_array = np.random.randn(25)\n",
    "print(random_array)\n"
   ]
  },
  {
   "cell_type": "markdown",
   "id": "e16eebb4",
   "metadata": {},
   "source": [
    "10. Create 10x10 matrix of 0.01 to 1"
   ]
  },
  {
   "cell_type": "code",
   "execution_count": 71,
   "id": "040c55ac",
   "metadata": {},
   "outputs": [
    {
     "name": "stdout",
     "output_type": "stream",
     "text": [
      "[[0.01 0.02 0.03 0.04 0.05 0.06 0.07 0.08 0.09 0.1 ]\n",
      " [0.11 0.12 0.13 0.14 0.15 0.16 0.17 0.18 0.19 0.2 ]\n",
      " [0.21 0.22 0.23 0.24 0.25 0.26 0.27 0.28 0.29 0.3 ]\n",
      " [0.31 0.32 0.33 0.34 0.35 0.36 0.37 0.38 0.39 0.4 ]\n",
      " [0.41 0.42 0.43 0.44 0.45 0.46 0.47 0.48 0.49 0.5 ]\n",
      " [0.51 0.52 0.53 0.54 0.55 0.56 0.57 0.58 0.59 0.6 ]\n",
      " [0.61 0.62 0.63 0.64 0.65 0.66 0.67 0.68 0.69 0.7 ]\n",
      " [0.71 0.72 0.73 0.74 0.75 0.76 0.77 0.78 0.79 0.8 ]\n",
      " [0.81 0.82 0.83 0.84 0.85 0.86 0.87 0.88 0.89 0.9 ]\n",
      " [0.91 0.92 0.93 0.94 0.95 0.96 0.97 0.98 0.99 1.  ]]\n"
     ]
    }
   ],
   "source": [
    "import numpy as np\n",
    "\n",
    "# Generate a sequence of numbers from 0.01 to 1.00\n",
    "numbers = np.arange(0.01, 1.01, 0.01)                 #np.arange(0.01, 1.01, 0.01) generates a sequence of numbers starting from 0.01 up to (but not including) 1.01, with a step size of 0.01.\n",
    "\n",
    "# Reshape the array into a 10x10 matrix\n",
    "matrix = numbers.reshape(10, 10)\n",
    "\n",
    "print(matrix)"
   ]
  },
  {
   "cell_type": "code",
   "execution_count": 73,
   "id": "ced89ea8",
   "metadata": {},
   "outputs": [
    {
     "name": "stdout",
     "output_type": "stream",
     "text": [
      "[[0.         0.01010101 0.02020202 0.03030303 0.04040404 0.05050505\n",
      "  0.06060606 0.07070707 0.08080808 0.09090909]\n",
      " [0.1010101  0.11111111 0.12121212 0.13131313 0.14141414 0.15151515\n",
      "  0.16161616 0.17171717 0.18181818 0.19191919]\n",
      " [0.2020202  0.21212121 0.22222222 0.23232323 0.24242424 0.25252525\n",
      "  0.26262626 0.27272727 0.28282828 0.29292929]\n",
      " [0.3030303  0.31313131 0.32323232 0.33333333 0.34343434 0.35353535\n",
      "  0.36363636 0.37373737 0.38383838 0.39393939]\n",
      " [0.4040404  0.41414141 0.42424242 0.43434343 0.44444444 0.45454545\n",
      "  0.46464646 0.47474747 0.48484848 0.49494949]\n",
      " [0.50505051 0.51515152 0.52525253 0.53535354 0.54545455 0.55555556\n",
      "  0.56565657 0.57575758 0.58585859 0.5959596 ]\n",
      " [0.60606061 0.61616162 0.62626263 0.63636364 0.64646465 0.65656566\n",
      "  0.66666667 0.67676768 0.68686869 0.6969697 ]\n",
      " [0.70707071 0.71717172 0.72727273 0.73737374 0.74747475 0.75757576\n",
      "  0.76767677 0.77777778 0.78787879 0.7979798 ]\n",
      " [0.80808081 0.81818182 0.82828283 0.83838384 0.84848485 0.85858586\n",
      "  0.86868687 0.87878788 0.88888889 0.8989899 ]\n",
      " [0.90909091 0.91919192 0.92929293 0.93939394 0.94949495 0.95959596\n",
      "  0.96969697 0.97979798 0.98989899 1.        ]]\n"
     ]
    }
   ],
   "source": [
    "numbers= np.linspace(0,1,100)\n",
    "matrix = numbers.reshape(10, 10)\n",
    "print(matrix)\n"
   ]
  },
  {
   "cell_type": "markdown",
   "id": "44b89cc2",
   "metadata": {},
   "source": [
    "11. Create an array of 20 linearly spaced points between 0 and 1:"
   ]
  },
  {
   "cell_type": "code",
   "execution_count": 28,
   "id": "ee07172b",
   "metadata": {},
   "outputs": [
    {
     "name": "stdout",
     "output_type": "stream",
     "text": [
      "[0.         0.05263158 0.10526316 0.15789474 0.21052632 0.26315789\n",
      " 0.31578947 0.36842105 0.42105263 0.47368421 0.52631579 0.57894737\n",
      " 0.63157895 0.68421053 0.73684211 0.78947368 0.84210526 0.89473684\n",
      " 0.94736842 1.        ]\n"
     ]
    }
   ],
   "source": [
    "import numpy as np\n",
    "\n",
    "# Generate 20 linearly spaced points between 0 and 1\n",
    "points = np.linspace(0, 1, 20)\n",
    "#np.linspace(0, 1, 20) generates an array of 20 evenly spaced points between 0 and 1 (inclusive).\n",
    "\n",
    "print(points)\n"
   ]
  },
  {
   "cell_type": "markdown",
   "id": "7a993d06",
   "metadata": {},
   "source": [
    "# Numpy Indexing and Selection"
   ]
  },
  {
   "cell_type": "markdown",
   "id": "bee994cc",
   "metadata": {},
   "source": [
    "* Now you will be given a few matrices, and be asked to replicate the resulting matrix outputs:"
   ]
  },
  {
   "cell_type": "code",
   "execution_count": 31,
   "id": "77d37295",
   "metadata": {},
   "outputs": [
    {
     "name": "stdout",
     "output_type": "stream",
     "text": [
      "[[ 1  2  3  4  5]\n",
      " [ 6  7  8  9 10]\n",
      " [11 12 13 14 15]\n",
      " [16 17 18 19 20]\n",
      " [21 22 23 24 25]]\n"
     ]
    }
   ],
   "source": [
    "import numpy as np\n",
    "\n",
    "# Creating a 5x5 matrix with values ranging from 1 to 25\n",
    "matrix_5x5 = np.arange(1,26).reshape(5, 5)\n",
    "print(matrix_5x5)"
   ]
  },
  {
   "cell_type": "code",
   "execution_count": 43,
   "id": "94172e5a",
   "metadata": {},
   "outputs": [
    {
     "name": "stdout",
     "output_type": "stream",
     "text": [
      "[[12 13 14 15]\n",
      " [17 18 19 20]\n",
      " [22 23 24 25]]\n"
     ]
    }
   ],
   "source": [
    "submat=matrix_5x5[2: , 1:]\n",
    "print(submat)  "
   ]
  },
  {
   "cell_type": "code",
   "execution_count": 50,
   "id": "af757ee7",
   "metadata": {},
   "outputs": [
    {
     "name": "stdout",
     "output_type": "stream",
     "text": [
      "20\n"
     ]
    }
   ],
   "source": [
    "element = matrix_5x5[3, 4] \n",
    "print(element)"
   ]
  },
  {
   "cell_type": "code",
   "execution_count": 57,
   "id": "7fab2d85",
   "metadata": {},
   "outputs": [
    {
     "name": "stdout",
     "output_type": "stream",
     "text": [
      "[[ 2]\n",
      " [ 7]\n",
      " [12]]\n"
     ]
    }
   ],
   "source": [
    "element1 = matrix_5x5[0, 1]  \n",
    "element2 = matrix_5x5[1, 1]  \n",
    "element3 = matrix_5x5[2, 1] \n",
    "\n",
    "# Create a column matrix (3x1 matrix) with extracted elements\n",
    "column_matrix = np.array([\n",
    "    [element1],\n",
    "    [element2],\n",
    "    [element3]\n",
    "])\n",
    "print(column_matrix)\n"
   ]
  },
  {
   "cell_type": "code",
   "execution_count": 65,
   "id": "8226b4df",
   "metadata": {},
   "outputs": [
    {
     "name": "stdout",
     "output_type": "stream",
     "text": [
      "[21 22 23 24 25]\n"
     ]
    }
   ],
   "source": [
    "last_row = matrix_5x5[-1, :] \n",
    "print(last_row)"
   ]
  },
  {
   "cell_type": "code",
   "execution_count": 61,
   "id": "ab224f4d",
   "metadata": {},
   "outputs": [
    {
     "name": "stdout",
     "output_type": "stream",
     "text": [
      "[[16 17 18 19 20]\n",
      " [21 22 23 24 25]]\n"
     ]
    }
   ],
   "source": [
    "last_2row = matrix_5x5[-2:, :] \n",
    "print(last_2row)\n"
   ]
  },
  {
   "cell_type": "markdown",
   "id": "eca70f34",
   "metadata": {},
   "source": [
    "* Get the sum of all the values in mat"
   ]
  },
  {
   "cell_type": "code",
   "execution_count": 74,
   "id": "a51487d9",
   "metadata": {},
   "outputs": [
    {
     "name": "stdout",
     "output_type": "stream",
     "text": [
      "Sum of all elements in matrix: 325\n"
     ]
    }
   ],
   "source": [
    "# Calculate the sum of all elements in matrix\n",
    "total_sum = np.sum(matrix_5x5)\n",
    "\n",
    "# Print the sum\n",
    "print(\"Sum of all elements in matrix:\", total_sum)"
   ]
  },
  {
   "cell_type": "markdown",
   "id": "990783c3",
   "metadata": {},
   "source": [
    "* Get the standard deviation of the values in mat"
   ]
  },
  {
   "cell_type": "code",
   "execution_count": 75,
   "id": "191d8788",
   "metadata": {},
   "outputs": [
    {
     "name": "stdout",
     "output_type": "stream",
     "text": [
      "Standard deviation of elements in matrix: 7.211102550927978\n"
     ]
    }
   ],
   "source": [
    "# Calculate the standard deviation of elements in mat\n",
    "std_deviation = np.std(matrix_5x5)\n",
    "\n",
    "# Print the standard deviation\n",
    "print(\"Standard deviation of elements in matrix:\", std_deviation)"
   ]
  },
  {
   "cell_type": "markdown",
   "id": "9a280cb8",
   "metadata": {},
   "source": [
    "* Get the sum of all the columns in mat"
   ]
  },
  {
   "cell_type": "code",
   "execution_count": 76,
   "id": "2ba72ced",
   "metadata": {},
   "outputs": [
    {
     "name": "stdout",
     "output_type": "stream",
     "text": [
      "Sum of each column in matrix: [55 60 65 70 75]\n"
     ]
    }
   ],
   "source": [
    "# Calculate the sum of each column in mat\n",
    "column_sums = np.sum(matrix_5x5, axis=0)\n",
    "\n",
    "# Print the sum of each column\n",
    "print(\"Sum of each column in matrix:\", column_sums)"
   ]
  },
  {
   "cell_type": "code",
   "execution_count": null,
   "id": "4cf298e5",
   "metadata": {},
   "outputs": [],
   "source": []
  },
  {
   "cell_type": "code",
   "execution_count": null,
   "id": "7a02e300",
   "metadata": {},
   "outputs": [],
   "source": []
  }
 ],
 "metadata": {
  "kernelspec": {
   "display_name": "Python 3 (ipykernel)",
   "language": "python",
   "name": "python3"
  },
  "language_info": {
   "codemirror_mode": {
    "name": "ipython",
    "version": 3
   },
   "file_extension": ".py",
   "mimetype": "text/x-python",
   "name": "python",
   "nbconvert_exporter": "python",
   "pygments_lexer": "ipython3",
   "version": "3.10.9"
  }
 },
 "nbformat": 4,
 "nbformat_minor": 5
}
