{
 "cells": [
  {
   "cell_type": "code",
   "execution_count": 1,
   "id": "f7245d6a",
   "metadata": {},
   "outputs": [],
   "source": [
    "#----------Operators in Python---------------------\n",
    "#Arithmatic Operator(+,-,,/,*(power),%(modulus))\n",
    "#Assingment operaor +=, -=,*=\n",
    "#Comparision Operator(>,<,==,!=,<=,>=)\n",
    "#Logical Operator(And,Or,Not)\n",
    "#Identity Operators(is,is not)\n",
    "#Membership Operators(in,not in)"
   ]
  },
  {
   "cell_type": "code",
   "execution_count": 5,
   "id": "0e8f9c89",
   "metadata": {},
   "outputs": [
    {
     "data": {
      "text/plain": [
       "3.3333333333333335"
      ]
     },
     "execution_count": 5,
     "metadata": {},
     "output_type": "execute_result"
    }
   ],
   "source": [
    "#Arithmatic Operator(+,-,,/,*(power),%(modulus))\n",
    "10/3"
   ]
  },
  {
   "cell_type": "code",
   "execution_count": 7,
   "id": "a96e3cb2",
   "metadata": {},
   "outputs": [
    {
     "data": {
      "text/plain": [
       "13"
      ]
     },
     "execution_count": 7,
     "metadata": {},
     "output_type": "execute_result"
    }
   ],
   "source": [
    "10+3"
   ]
  },
  {
   "cell_type": "code",
   "execution_count": 9,
   "id": "a45b1259",
   "metadata": {},
   "outputs": [
    {
     "data": {
      "text/plain": [
       "7"
      ]
     },
     "execution_count": 9,
     "metadata": {},
     "output_type": "execute_result"
    }
   ],
   "source": [
    "10-3"
   ]
  },
  {
   "cell_type": "code",
   "execution_count": 11,
   "id": "47c18f4a",
   "metadata": {},
   "outputs": [
    {
     "data": {
      "text/plain": [
       "30"
      ]
     },
     "execution_count": 11,
     "metadata": {},
     "output_type": "execute_result"
    }
   ],
   "source": [
    "10*3"
   ]
  },
  {
   "cell_type": "code",
   "execution_count": 14,
   "id": "0b6cdad0",
   "metadata": {},
   "outputs": [
    {
     "data": {
      "text/plain": [
       "3"
      ]
     },
     "execution_count": 14,
     "metadata": {},
     "output_type": "execute_result"
    }
   ],
   "source": [
    "3%10"
   ]
  },
  {
   "cell_type": "code",
   "execution_count": 16,
   "id": "360762aa",
   "metadata": {},
   "outputs": [
    {
     "name": "stdout",
     "output_type": "stream",
     "text": [
      "55\n"
     ]
    }
   ],
   "source": [
    "#Assingment operaor\n",
    "# +=value\n",
    "# -=value\n",
    "# *=value\n",
    "# /=value\n",
    "x=50\n",
    "x+=5\n",
    "print(x)"
   ]
  },
  {
   "cell_type": "code",
   "execution_count": 34,
   "id": "d3a8d486",
   "metadata": {},
   "outputs": [
    {
     "data": {
      "text/plain": [
       "15"
      ]
     },
     "execution_count": 34,
     "metadata": {},
     "output_type": "execute_result"
    }
   ],
   "source": [
    "a=10\n",
    "a=a+5\n",
    "a"
   ]
  },
  {
   "cell_type": "code",
   "execution_count": 36,
   "id": "d280706d",
   "metadata": {},
   "outputs": [],
   "source": [
    "a+=5"
   ]
  },
  {
   "cell_type": "code",
   "execution_count": 38,
   "id": "3db86073",
   "metadata": {},
   "outputs": [
    {
     "data": {
      "text/plain": [
       "25"
      ]
     },
     "execution_count": 38,
     "metadata": {},
     "output_type": "execute_result"
    }
   ],
   "source": [
    "a"
   ]
  },
  {
   "cell_type": "code",
   "execution_count": 41,
   "id": "a3303246",
   "metadata": {},
   "outputs": [],
   "source": [
    "A=10\n",
    "A-=2"
   ]
  },
  {
   "cell_type": "code",
   "execution_count": 43,
   "id": "6356fbb3",
   "metadata": {},
   "outputs": [
    {
     "data": {
      "text/plain": [
       "8"
      ]
     },
     "execution_count": 43,
     "metadata": {},
     "output_type": "execute_result"
    }
   ],
   "source": [
    "A"
   ]
  },
  {
   "cell_type": "code",
   "execution_count": 44,
   "id": "c886b2a1",
   "metadata": {},
   "outputs": [],
   "source": [
    "A*=2"
   ]
  },
  {
   "cell_type": "code",
   "execution_count": 46,
   "id": "a61610f6",
   "metadata": {},
   "outputs": [
    {
     "data": {
      "text/plain": [
       "16"
      ]
     },
     "execution_count": 46,
     "metadata": {},
     "output_type": "execute_result"
    }
   ],
   "source": [
    "A"
   ]
  },
  {
   "cell_type": "code",
   "execution_count": 47,
   "id": "2e74734d",
   "metadata": {},
   "outputs": [],
   "source": [
    "A/=4"
   ]
  },
  {
   "cell_type": "code",
   "execution_count": 49,
   "id": "227577e9",
   "metadata": {},
   "outputs": [
    {
     "data": {
      "text/plain": [
       "4.0"
      ]
     },
     "execution_count": 49,
     "metadata": {},
     "output_type": "execute_result"
    }
   ],
   "source": [
    "A"
   ]
  },
  {
   "cell_type": "code",
   "execution_count": 51,
   "id": "1a3082be",
   "metadata": {},
   "outputs": [
    {
     "data": {
      "text/plain": [
       "False"
      ]
     },
     "execution_count": 51,
     "metadata": {},
     "output_type": "execute_result"
    }
   ],
   "source": [
    "#Comparison Operators\n",
    "2!=2"
   ]
  },
  {
   "cell_type": "code",
   "execution_count": 55,
   "id": "f09df4c1",
   "metadata": {},
   "outputs": [
    {
     "data": {
      "text/plain": [
       "True"
      ]
     },
     "execution_count": 55,
     "metadata": {},
     "output_type": "execute_result"
    }
   ],
   "source": [
    "5<=5"
   ]
  },
  {
   "cell_type": "code",
   "execution_count": 57,
   "id": "d1c62710",
   "metadata": {},
   "outputs": [
    {
     "data": {
      "text/plain": [
       "True"
      ]
     },
     "execution_count": 57,
     "metadata": {},
     "output_type": "execute_result"
    }
   ],
   "source": [
    "5<6"
   ]
  },
  {
   "cell_type": "code",
   "execution_count": 59,
   "id": "96f60a4e",
   "metadata": {},
   "outputs": [
    {
     "data": {
      "text/plain": [
       "True"
      ]
     },
     "execution_count": 59,
     "metadata": {},
     "output_type": "execute_result"
    }
   ],
   "source": [
    "5>1"
   ]
  },
  {
   "cell_type": "code",
   "execution_count": 61,
   "id": "a68f1250",
   "metadata": {},
   "outputs": [
    {
     "data": {
      "text/plain": [
       "True"
      ]
     },
     "execution_count": 61,
     "metadata": {},
     "output_type": "execute_result"
    }
   ],
   "source": [
    "5==5"
   ]
  },
  {
   "cell_type": "code",
   "execution_count": 62,
   "id": "3ee41799",
   "metadata": {},
   "outputs": [
    {
     "data": {
      "text/plain": [
       "True"
      ]
     },
     "execution_count": 62,
     "metadata": {},
     "output_type": "execute_result"
    }
   ],
   "source": [
    "1!=5"
   ]
  },
  {
   "cell_type": "code",
   "execution_count": 63,
   "id": "7515e4a3",
   "metadata": {},
   "outputs": [
    {
     "data": {
      "text/plain": [
       "True"
      ]
     },
     "execution_count": 63,
     "metadata": {},
     "output_type": "execute_result"
    }
   ],
   "source": [
    "# Comparison Operators \n",
    "#And-Returns True if both statements are true\n",
    "x=3\n",
    "x < 5 or x < 2"
   ]
  },
  {
   "cell_type": "code",
   "execution_count": 64,
   "id": "803306ce",
   "metadata": {},
   "outputs": [
    {
     "data": {
      "text/plain": [
       "True"
      ]
     },
     "execution_count": 64,
     "metadata": {},
     "output_type": "execute_result"
    }
   ],
   "source": [
    "#Or-Returns True if one of the statements is true\n",
    "x=6\n",
    "x < 5 or x < 8"
   ]
  },
  {
   "cell_type": "code",
   "execution_count": 65,
   "id": "c171dc79",
   "metadata": {},
   "outputs": [
    {
     "data": {
      "text/plain": [
       "False"
      ]
     },
     "execution_count": 65,
     "metadata": {},
     "output_type": "execute_result"
    }
   ],
   "source": [
    "#not-Reverse the result, returns False if the result is true\n",
    "x=10\n",
    "not(x < 11 and x > 0)"
   ]
  },
  {
   "cell_type": "code",
   "execution_count": 66,
   "id": "14989634",
   "metadata": {},
   "outputs": [
    {
     "data": {
      "text/plain": [
       "True"
      ]
     },
     "execution_count": 66,
     "metadata": {},
     "output_type": "execute_result"
    }
   ],
   "source": [
    "x=10\n",
    "not(x > 11 and x < 0)"
   ]
  },
  {
   "cell_type": "code",
   "execution_count": 67,
   "id": "e3e8b532",
   "metadata": {},
   "outputs": [],
   "source": [
    "# Identity Operators\n",
    "x=10"
   ]
  },
  {
   "cell_type": "code",
   "execution_count": 68,
   "id": "7a2b030c",
   "metadata": {},
   "outputs": [
    {
     "name": "stderr",
     "output_type": "stream",
     "text": [
      "<>:1: SyntaxWarning: \"is\" with a literal. Did you mean \"==\"?\n",
      "<>:1: SyntaxWarning: \"is\" with a literal. Did you mean \"==\"?\n",
      "C:\\Users\\shree\\AppData\\Local\\Temp\\ipykernel_167628\\2183931627.py:1: SyntaxWarning: \"is\" with a literal. Did you mean \"==\"?\n",
      "  x is 10\n"
     ]
    },
    {
     "data": {
      "text/plain": [
       "True"
      ]
     },
     "execution_count": 68,
     "metadata": {},
     "output_type": "execute_result"
    }
   ],
   "source": [
    "x is 10"
   ]
  },
  {
   "cell_type": "code",
   "execution_count": 69,
   "id": "3057b957",
   "metadata": {},
   "outputs": [
    {
     "name": "stderr",
     "output_type": "stream",
     "text": [
      "<>:1: SyntaxWarning: \"is not\" with a literal. Did you mean \"!=\"?\n",
      "<>:1: SyntaxWarning: \"is not\" with a literal. Did you mean \"!=\"?\n",
      "C:\\Users\\shree\\AppData\\Local\\Temp\\ipykernel_167628\\1660080432.py:1: SyntaxWarning: \"is not\" with a literal. Did you mean \"!=\"?\n",
      "  x is not 10\n"
     ]
    },
    {
     "data": {
      "text/plain": [
       "False"
      ]
     },
     "execution_count": 69,
     "metadata": {},
     "output_type": "execute_result"
    }
   ],
   "source": [
    "x is not 10"
   ]
  },
  {
   "cell_type": "code",
   "execution_count": 70,
   "id": "6997528b",
   "metadata": {},
   "outputs": [],
   "source": [
    "#Membership Operators\n",
    "x=(1,2,3,4,5,6)"
   ]
  },
  {
   "cell_type": "code",
   "execution_count": 71,
   "id": "41e0d0a1",
   "metadata": {},
   "outputs": [
    {
     "data": {
      "text/plain": [
       "True"
      ]
     },
     "execution_count": 71,
     "metadata": {},
     "output_type": "execute_result"
    }
   ],
   "source": [
    "1 in x"
   ]
  },
  {
   "cell_type": "code",
   "execution_count": 72,
   "id": "0ce27b89",
   "metadata": {},
   "outputs": [
    {
     "data": {
      "text/plain": [
       "False"
      ]
     },
     "execution_count": 72,
     "metadata": {},
     "output_type": "execute_result"
    }
   ],
   "source": [
    "2 not in x"
   ]
  },
  {
   "cell_type": "code",
   "execution_count": null,
   "id": "047a16e3",
   "metadata": {},
   "outputs": [],
   "source": []
  }
 ],
 "metadata": {
  "kernelspec": {
   "display_name": "Python 3 (ipykernel)",
   "language": "python",
   "name": "python3"
  },
  "language_info": {
   "codemirror_mode": {
    "name": "ipython",
    "version": 3
   },
   "file_extension": ".py",
   "mimetype": "text/x-python",
   "name": "python",
   "nbconvert_exporter": "python",
   "pygments_lexer": "ipython3",
   "version": "3.10.9"
  }
 },
 "nbformat": 4,
 "nbformat_minor": 5
}
