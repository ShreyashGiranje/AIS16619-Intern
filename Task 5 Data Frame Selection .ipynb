{
 "cells": [
  {
   "cell_type": "markdown",
   "id": "0d1bfffc",
   "metadata": {},
   "source": [
    "# Data Frame Selection\n"
   ]
  },
  {
   "cell_type": "code",
   "execution_count": 1,
   "id": "13649825",
   "metadata": {},
   "outputs": [
    {
     "name": "stdout",
     "output_type": "stream",
     "text": [
      "   A  B   C\n",
      "0  1  5   9\n",
      "1  2  6  10\n",
      "2  3  7  11\n",
      "3  4  8  12\n"
     ]
    }
   ],
   "source": [
    "# First, let's start by importing pandas and creating a sample DataFrame:\n",
    "import pandas as pd\n",
    "# Sample DataFrame\n",
    "data = {\n",
    "    'A': [1, 2, 3, 4],\n",
    "    'B': [5, 6, 7, 8],\n",
    "    'C': [9, 10, 11, 12]\n",
    "}\n",
    "df = pd.DataFrame(data)\n",
    "print(df)"
   ]
  },
  {
   "cell_type": "markdown",
   "id": "f2b282dc",
   "metadata": {},
   "source": [
    "# 1. Column and Row Selection"
   ]
  },
  {
   "cell_type": "raw",
   "id": "ff34296f",
   "metadata": {},
   "source": [
    "# Column Selection\n",
    "   Using column names:"
   ]
  },
  {
   "cell_type": "code",
   "execution_count": 3,
   "id": "a193304e",
   "metadata": {},
   "outputs": [
    {
     "name": "stdout",
     "output_type": "stream",
     "text": [
      "0    1\n",
      "1    2\n",
      "2    3\n",
      "3    4\n",
      "Name: A, dtype: int64\n",
      "   A  B\n",
      "0  1  5\n",
      "1  2  6\n",
      "2  3  7\n",
      "3  4  8\n"
     ]
    }
   ],
   "source": [
    "# Single column\n",
    "print(df['A'])\n",
    "\n",
    "# Multiple columns\n",
    "print(df[['A', 'B']])\n"
   ]
  },
  {
   "cell_type": "raw",
   "id": "a009b88e",
   "metadata": {},
   "source": [
    "# Using loc and iloc:"
   ]
  },
  {
   "cell_type": "code",
   "execution_count": 19,
   "id": "8aec2c8b",
   "metadata": {},
   "outputs": [
    {
     "name": "stdout",
     "output_type": "stream",
     "text": [
      "0    2\n",
      "1    4\n",
      "2    6\n",
      "3    8\n",
      "Name: A, dtype: int64\n",
      "   A  B\n",
      "0  2  5\n",
      "1  4  6\n",
      "2  6  7\n",
      "3  8  8\n",
      "0    2\n",
      "1    4\n",
      "2    6\n",
      "3    8\n",
      "Name: A, dtype: int64\n",
      "   A  B\n",
      "0  2  5\n",
      "1  4  6\n",
      "2  6  7\n",
      "3  8  8\n"
     ]
    }
   ],
   "source": [
    "\n",
    "# Single column with loc\n",
    "print(df.loc[:, 'A'])\n",
    "\n",
    "# Multiple columns with loc\n",
    "print(df.loc[:, ['A', 'B']])\n",
    "\n",
    "# Single column with iloc\n",
    "print(df.iloc[:, 0])\n",
    "\n",
    "# Multiple columns with iloc\n",
    "print(df.iloc[:, [0, 1]])"
   ]
  },
  {
   "cell_type": "raw",
   "id": "0926605c",
   "metadata": {},
   "source": [
    "# Row Selection\n",
    "  Using index:"
   ]
  },
  {
   "cell_type": "code",
   "execution_count": 20,
   "id": "8d041d3d",
   "metadata": {},
   "outputs": [
    {
     "name": "stdout",
     "output_type": "stream",
     "text": [
      "A       2\n",
      "B       5\n",
      "C       9\n",
      "E       7\n",
      "F      -4\n",
      "G      18\n",
      "H     4.5\n",
      "I    True\n",
      "Name: 0, dtype: object\n",
      "   A  B   C   E  F   G         H     I\n",
      "0  2  5   9   7 -4  18  4.500000  True\n",
      "1  4  6  10  10 -4  40  2.500000  True\n",
      "2  6  7  11  13 -4  66  1.833333  True\n"
     ]
    }
   ],
   "source": [
    "# using loc\n",
    "# Single row\n",
    "print(df.loc[0])\n",
    "\n",
    "# Multiple rows\n",
    "print(df.loc[0:2])"
   ]
  },
  {
   "cell_type": "code",
   "execution_count": 31,
   "id": "9624daa2",
   "metadata": {},
   "outputs": [
    {
     "name": "stdout",
     "output_type": "stream",
     "text": [
      "A       4\n",
      "B       5\n",
      "C       9\n",
      "E       9\n",
      "F      -4\n",
      "G      36\n",
      "H    2.25\n",
      "I    True\n",
      "Name: 0, dtype: object\n",
      "   A  B   C   E  F   G     H     I\n",
      "0  4  5   9   9 -4  36  2.25  True\n",
      "1  8  6  10  14 -4  80  1.25  True\n"
     ]
    }
   ],
   "source": [
    "# Using iloc:\n",
    "# Single row\n",
    "print(df.iloc[0])\n",
    "\n",
    "# Multiple rows\n",
    "print(df.iloc[0:2])"
   ]
  },
  {
   "cell_type": "markdown",
   "id": "ff49b523",
   "metadata": {},
   "source": [
    "# 2. Conditional Selection"
   ]
  },
  {
   "cell_type": "code",
   "execution_count": 32,
   "id": "cd8f395c",
   "metadata": {},
   "outputs": [
    {
     "name": "stdout",
     "output_type": "stream",
     "text": [
      "    A  B   C   E  F    G         H     I\n",
      "0   4  5   9   9 -4   36  2.250000  True\n",
      "1   8  6  10  14 -4   80  1.250000  True\n",
      "2  12  7  11  19 -4  132  0.916667  True\n",
      "3  16  8  12  24 -4  192  0.750000  True\n",
      "    A  B   C   E  F    G         H     I\n",
      "0   4  5   9   9 -4   36  2.250000  True\n",
      "1   8  6  10  14 -4   80  1.250000  True\n",
      "2  12  7  11  19 -4  132  0.916667  True\n"
     ]
    }
   ],
   "source": [
    "# Select rows where column 'A' is greater than 2\n",
    "print(df[df['A'] > 2])\n",
    "\n",
    "# Select rows where column 'A' is greater than 2 and column 'B' is less than 8\n",
    "print(df[(df['A'] > 2) & (df['B'] < 8)])"
   ]
  },
  {
   "cell_type": "markdown",
   "id": "90f0411d",
   "metadata": {},
   "source": [
    "# 3. Adding, Deleting, and Updating Columns"
   ]
  },
  {
   "cell_type": "markdown",
   "id": "10b21bfe",
   "metadata": {},
   "source": [
    "* Adding a Column"
   ]
  },
  {
   "cell_type": "code",
   "execution_count": 33,
   "id": "24b6d949",
   "metadata": {},
   "outputs": [
    {
     "name": "stdout",
     "output_type": "stream",
     "text": [
      "    A  B   C   E  F    G         H     I   D\n",
      "0   4  5   9   9 -4   36  2.250000  True   9\n",
      "1   8  6  10  14 -4   80  1.250000  True  14\n",
      "2  12  7  11  19 -4  132  0.916667  True  19\n",
      "3  16  8  12  24 -4  192  0.750000  True  24\n"
     ]
    }
   ],
   "source": [
    "# Adding a new column\n",
    "df['D'] = df['A'] + df['B']\n",
    "print(df)"
   ]
  },
  {
   "cell_type": "markdown",
   "id": "994fbe3f",
   "metadata": {},
   "source": [
    "* Deleting a Column"
   ]
  },
  {
   "cell_type": "code",
   "execution_count": 34,
   "id": "9ca3c873",
   "metadata": {},
   "outputs": [
    {
     "name": "stdout",
     "output_type": "stream",
     "text": [
      "    A  B   C   E  F    G         H     I\n",
      "0   4  5   9   9 -4   36  2.250000  True\n",
      "1   8  6  10  14 -4   80  1.250000  True\n",
      "2  12  7  11  19 -4  132  0.916667  True\n",
      "3  16  8  12  24 -4  192  0.750000  True\n"
     ]
    }
   ],
   "source": [
    "# Deleting a column\n",
    "df.drop('D', axis=1, inplace=True)\n",
    "print(df)"
   ]
  },
  {
   "cell_type": "markdown",
   "id": "f6671279",
   "metadata": {},
   "source": [
    "* Updating a Column"
   ]
  },
  {
   "cell_type": "code",
   "execution_count": 35,
   "id": "4160fdc9",
   "metadata": {},
   "outputs": [
    {
     "name": "stdout",
     "output_type": "stream",
     "text": [
      "    A  B   C   E  F    G         H     I\n",
      "0   8  5   9   9 -4   36  2.250000  True\n",
      "1  16  6  10  14 -4   80  1.250000  True\n",
      "2  24  7  11  19 -4  132  0.916667  True\n",
      "3  32  8  12  24 -4  192  0.750000  True\n"
     ]
    }
   ],
   "source": [
    "# Updating a column\n",
    "df['A'] = df['A'] * 2\n",
    "print(df)"
   ]
  },
  {
   "cell_type": "markdown",
   "id": "f9296dd2",
   "metadata": {},
   "source": [
    "# 4. Index Operations"
   ]
  },
  {
   "cell_type": "markdown",
   "id": "6963e659",
   "metadata": {},
   "source": [
    "* Setting an Index"
   ]
  },
  {
   "cell_type": "code",
   "execution_count": 36,
   "id": "5112a361",
   "metadata": {},
   "outputs": [
    {
     "name": "stdout",
     "output_type": "stream",
     "text": [
      "\n",
      "DataFrame after setting index to column A:\n",
      "     B   C   E  F    G         H     I\n",
      "A                                    \n",
      "8   5   9   9 -4   36  2.250000  True\n",
      "16  6  10  14 -4   80  1.250000  True\n",
      "24  7  11  19 -4  132  0.916667  True\n",
      "32  8  12  24 -4  192  0.750000  True\n"
     ]
    }
   ],
   "source": [
    "# Setting a column as index\n",
    "df.set_index('A', inplace=True)\n",
    "print(\"\\nDataFrame after setting index to column A:\\n\", df)"
   ]
  },
  {
   "cell_type": "markdown",
   "id": "2de5f760",
   "metadata": {},
   "source": [
    "* Resetting an Index"
   ]
  },
  {
   "cell_type": "code",
   "execution_count": 37,
   "id": "dcd98917",
   "metadata": {},
   "outputs": [
    {
     "name": "stdout",
     "output_type": "stream",
     "text": [
      "\n",
      "DataFrame after resetting index:\n",
      "     A  B   C   E  F    G         H     I\n",
      "0   8  5   9   9 -4   36  2.250000  True\n",
      "1  16  6  10  14 -4   80  1.250000  True\n",
      "2  24  7  11  19 -4  132  0.916667  True\n",
      "3  32  8  12  24 -4  192  0.750000  True\n"
     ]
    }
   ],
   "source": [
    "# Resetting index to default integer index\n",
    "df.reset_index(inplace=True)\n",
    "print(\"\\nDataFrame after resetting index:\\n\", df)"
   ]
  },
  {
   "cell_type": "markdown",
   "id": "f383e822",
   "metadata": {},
   "source": [
    "* Removing an Index"
   ]
  },
  {
   "cell_type": "code",
   "execution_count": 38,
   "id": "328e0a0d",
   "metadata": {},
   "outputs": [
    {
     "name": "stdout",
     "output_type": "stream",
     "text": [
      "\n",
      "DataFrame after removing index name:\n",
      "     A  B   C   E  F    G         H     I\n",
      "0   8  5   9   9 -4   36  2.250000  True\n",
      "1  16  6  10  14 -4   80  1.250000  True\n",
      "2  24  7  11  19 -4  132  0.916667  True\n",
      "3  32  8  12  24 -4  192  0.750000  True\n"
     ]
    }
   ],
   "source": [
    "# Removing the index name\n",
    "df.index.name = None\n",
    "print(\"\\nDataFrame after removing index name:\\n\", df)"
   ]
  },
  {
   "cell_type": "markdown",
   "id": "4079d326",
   "metadata": {},
   "source": [
    "\n",
    "# 5. Operations Between Columns"
   ]
  },
  {
   "cell_type": "markdown",
   "id": "68d364f9",
   "metadata": {},
   "source": [
    "* Addition, Subtraction, Multiplication, and Division"
   ]
  },
  {
   "cell_type": "code",
   "execution_count": 39,
   "id": "89199c7e",
   "metadata": {},
   "outputs": [
    {
     "name": "stdout",
     "output_type": "stream",
     "text": [
      "    A  B   C   E  F    G         H     I\n",
      "0   8  5   9  13 -4   36  2.250000  True\n",
      "1  16  6  10  22 -4   80  1.250000  True\n",
      "2  24  7  11  31 -4  132  0.916667  True\n",
      "3  32  8  12  40 -4  192  0.750000  True\n",
      "    A  B   C   E  F    G         H     I\n",
      "0   8  5   9  13 -4   36  2.250000  True\n",
      "1  16  6  10  22 -4   80  1.250000  True\n",
      "2  24  7  11  31 -4  132  0.916667  True\n",
      "3  32  8  12  40 -4  192  0.750000  True\n",
      "    A  B   C   E  F    G         H     I\n",
      "0   8  5   9  13 -4   72  2.250000  True\n",
      "1  16  6  10  22 -4  160  1.250000  True\n",
      "2  24  7  11  31 -4  264  0.916667  True\n",
      "3  32  8  12  40 -4  384  0.750000  True\n",
      "    A  B   C   E  F    G         H     I\n",
      "0   8  5   9  13 -4   72  1.125000  True\n",
      "1  16  6  10  22 -4  160  0.625000  True\n",
      "2  24  7  11  31 -4  264  0.458333  True\n",
      "3  32  8  12  40 -4  384  0.375000  True\n"
     ]
    }
   ],
   "source": [
    "# Addition\n",
    "df['E'] = df['A'] + df['B']\n",
    "print(df)\n",
    "\n",
    "# Subtraction\n",
    "df['F'] = df['B'] - df['C']\n",
    "print(df)\n",
    "\n",
    "# Multiplication\n",
    "df['G'] = df['A'] * df['C']\n",
    "print(df)\n",
    "\n",
    "# Division\n",
    "df['H'] = df['C'] / df['A']\n",
    "print(df)"
   ]
  },
  {
   "cell_type": "markdown",
   "id": "01b8bb4a",
   "metadata": {},
   "source": [
    "* Logical OR Operation"
   ]
  },
  {
   "cell_type": "code",
   "execution_count": 40,
   "id": "c3a654a5",
   "metadata": {},
   "outputs": [
    {
     "name": "stdout",
     "output_type": "stream",
     "text": [
      "    A  B   C   E  F    G         H     I\n",
      "0   8  5   9  13 -4   72  1.125000  True\n",
      "1  16  6  10  22 -4  160  0.625000  True\n",
      "2  24  7  11  31 -4  264  0.458333  True\n",
      "3  32  8  12  40 -4  384  0.375000  True\n"
     ]
    }
   ],
   "source": [
    "# Logical OR operation (element-wise)\n",
    "df['I'] = (df['A'] > 2) | (df['B'] < 7)\n",
    "print(df)"
   ]
  },
  {
   "cell_type": "code",
   "execution_count": null,
   "id": "46bcf083",
   "metadata": {},
   "outputs": [],
   "source": []
  }
 ],
 "metadata": {
  "kernelspec": {
   "display_name": "Python 3 (ipykernel)",
   "language": "python",
   "name": "python3"
  },
  "language_info": {
   "codemirror_mode": {
    "name": "ipython",
    "version": 3
   },
   "file_extension": ".py",
   "mimetype": "text/x-python",
   "name": "python",
   "nbconvert_exporter": "python",
   "pygments_lexer": "ipython3",
   "version": "3.10.9"
  }
 },
 "nbformat": 4,
 "nbformat_minor": 5
}
