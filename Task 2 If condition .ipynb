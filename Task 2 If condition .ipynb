{
 "cells": [
  {
   "cell_type": "code",
   "execution_count": null,
   "id": "87d2962e",
   "metadata": {},
   "outputs": [],
   "source": [
    "#if syntax Python\n",
    "\n",
    "#if condition:\n",
    "    #Statements to execute if condition is true"
   ]
  },
  {
   "cell_type": "code",
   "execution_count": 3,
   "id": "63efd23b",
   "metadata": {},
   "outputs": [],
   "source": [
    "#Python supports the usual logical conditions from mathematics:\n",
    "\n",
    "#Equals: a == b\n",
    "#Not Equals: a != b\n",
    "#Less than: a < b\n",
    "#Less than or equal to: a <= b\n",
    "#Greater than: a > b\n",
    "#Greater than or equal to: a >= b\n",
    "#These conditions can be used in several ways, most commonly in \"if statements\" and loops."
   ]
  },
  {
   "cell_type": "code",
   "execution_count": 40,
   "id": "b4d73566",
   "metadata": {},
   "outputs": [
    {
     "name": "stdout",
     "output_type": "stream",
     "text": [
      "i is equal to a\n"
     ]
    }
   ],
   "source": [
    "# python program to illustrate If statement\n",
    "#example 1\n",
    "i = 10\n",
    "a = 10\n",
    "if (a == i):\n",
    "    print(\"i is equal to a\")"
   ]
  },
  {
   "cell_type": "code",
   "execution_count": 39,
   "id": "43b69997",
   "metadata": {},
   "outputs": [
    {
     "name": "stdout",
     "output_type": "stream",
     "text": [
      "10 is not equal to 11\n"
     ]
    }
   ],
   "source": [
    "#example 2\n",
    "a = 10\n",
    "\n",
    "if (a != 11):\n",
    "    print(\"10 is not equal to 11\")"
   ]
  },
  {
   "cell_type": "code",
   "execution_count": 41,
   "id": "62bd6be4",
   "metadata": {},
   "outputs": [
    {
     "name": "stdout",
     "output_type": "stream",
     "text": [
      "Correct\n"
     ]
    }
   ],
   "source": [
    "#example 3\n",
    "a=10\n",
    "if (a < 12):\n",
    "    print(\"Correct\")"
   ]
  },
  {
   "cell_type": "code",
   "execution_count": 43,
   "id": "12d7af0f",
   "metadata": {},
   "outputs": [
    {
     "name": "stdout",
     "output_type": "stream",
     "text": [
      "Correct\n"
     ]
    }
   ],
   "source": [
    "#example 4\n",
    "i= 10\n",
    "a=10\n",
    "\n",
    "if (a <= i):\n",
    "    print(\"Correct\")"
   ]
  },
  {
   "cell_type": "code",
   "execution_count": 47,
   "id": "8363dec5",
   "metadata": {},
   "outputs": [
    {
     "name": "stdout",
     "output_type": "stream",
     "text": [
      "Correct\n"
     ]
    }
   ],
   "source": [
    "#example 5\n",
    "i = 10\n",
    "a = 100\n",
    "\n",
    "if (a > i):\n",
    "    print(\"Correct\")"
   ]
  },
  {
   "cell_type": "code",
   "execution_count": 48,
   "id": "fb8d63f6",
   "metadata": {},
   "outputs": [
    {
     "name": "stdout",
     "output_type": "stream",
     "text": [
      "Correct\n"
     ]
    }
   ],
   "source": [
    "#example 6\n",
    "i = 10\n",
    "a = 10\n",
    "\n",
    "if (a >= i):\n",
    "    print(\"Correct\")"
   ]
  },
  {
   "cell_type": "code",
   "execution_count": 49,
   "id": "44e86bae",
   "metadata": {},
   "outputs": [
    {
     "name": "stdout",
     "output_type": "stream",
     "text": [
      "You are Shreyash\n"
     ]
    }
   ],
   "source": [
    "#Example 7\n",
    "A = \"Shreyash\"\n",
    "\n",
    "if (A == \"Shreyash\"):\n",
    "    print(\"You are Shreyash\")"
   ]
  },
  {
   "cell_type": "code",
   "execution_count": 1,
   "id": "6603ea57",
   "metadata": {},
   "outputs": [
    {
     "name": "stdout",
     "output_type": "stream",
     "text": [
      "Number is positive\n"
     ]
    }
   ],
   "source": [
    "#example 8\n",
    "number = 10\n",
    "if number > 0:\n",
    "    print('Number is positive')\n"
   ]
  },
  {
   "cell_type": "code",
   "execution_count": 2,
   "id": "a7697e4d",
   "metadata": {},
   "outputs": [
    {
     "name": "stdout",
     "output_type": "stream",
     "text": [
      "x is greater than 5\n"
     ]
    }
   ],
   "source": [
    "# example 9\n",
    "x = 10\n",
    "if x > 5:\n",
    "    print(\"x is greater than 5\")\n"
   ]
  },
  {
   "cell_type": "code",
   "execution_count": null,
   "id": "3522d29c",
   "metadata": {},
   "outputs": [],
   "source": []
  }
 ],
 "metadata": {
  "kernelspec": {
   "display_name": "Python 3 (ipykernel)",
   "language": "python",
   "name": "python3"
  },
  "language_info": {
   "codemirror_mode": {
    "name": "ipython",
    "version": 3
   },
   "file_extension": ".py",
   "mimetype": "text/x-python",
   "name": "python",
   "nbconvert_exporter": "python",
   "pygments_lexer": "ipython3",
   "version": "3.10.9"
  }
 },
 "nbformat": 4,
 "nbformat_minor": 5
}
