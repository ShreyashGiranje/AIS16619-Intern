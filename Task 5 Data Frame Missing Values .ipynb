{
 "cells": [
  {
   "cell_type": "markdown",
   "id": "74ad6342",
   "metadata": {},
   "source": [
    "# Create a DataFrame with Missing Values"
   ]
  },
  {
   "cell_type": "code",
   "execution_count": 1,
   "id": "c35f9e82",
   "metadata": {},
   "outputs": [
    {
     "name": "stdout",
     "output_type": "stream",
     "text": [
      "Original DataFrame with missing values:\n",
      "      A    B  C\n",
      "0  1.0  NaN  1\n",
      "1  2.0  2.0  2\n",
      "2  NaN  3.0  3\n",
      "3  4.0  NaN  4\n",
      "4  5.0  5.0  5\n"
     ]
    }
   ],
   "source": [
    "import pandas as pd\n",
    "import numpy as np\n",
    "# Sample DataFrame with missing values\n",
    "data = {\n",
    "    'A': [1, 2, np.nan, 4, 5],\n",
    "    'B': [np.nan, 2, 3, np.nan, 5],\n",
    "    'C': [1, 2, 3, 4, 5]\n",
    "}\n",
    "df = pd.DataFrame(data)\n",
    "print(\"Original DataFrame with missing values:\\n\", df)"
   ]
  },
  {
   "cell_type": "markdown",
   "id": "321f63a3",
   "metadata": {},
   "source": [
    "# 1.Checking for Missing Values"
   ]
  },
  {
   "cell_type": "code",
   "execution_count": 2,
   "id": "36a027c2",
   "metadata": {},
   "outputs": [
    {
     "name": "stdout",
     "output_type": "stream",
     "text": [
      "\n",
      "Missing values in DataFrame:\n",
      "        A      B      C\n",
      "0  False   True  False\n",
      "1  False  False  False\n",
      "2   True  False  False\n",
      "3  False   True  False\n",
      "4  False  False  False\n",
      "\n",
      "Missing values count in each column:\n",
      " A    1\n",
      "B    2\n",
      "C    0\n",
      "dtype: int64\n"
     ]
    }
   ],
   "source": [
    "# Check for missing values in the entire DataFrame\n",
    "print(\"\\nMissing values in DataFrame:\\n\", df.isnull())\n",
    "\n",
    "# Check for missing values in each column\n",
    "print(\"\\nMissing values count in each column:\\n\", df.isnull().sum())\n"
   ]
  },
  {
   "cell_type": "markdown",
   "id": "17866d28",
   "metadata": {},
   "source": [
    "# 2.Dropping Rows or Columns with Missing Values"
   ]
  },
  {
   "cell_type": "markdown",
   "id": "fb9c7421",
   "metadata": {},
   "source": [
    "* Drop Rows with Any Missing Values"
   ]
  },
  {
   "cell_type": "code",
   "execution_count": 3,
   "id": "e5987375",
   "metadata": {},
   "outputs": [
    {
     "name": "stdout",
     "output_type": "stream",
     "text": [
      "\n",
      "DataFrame after dropping rows with any missing values:\n",
      "      A    B  C\n",
      "1  2.0  2.0  2\n",
      "4  5.0  5.0  5\n"
     ]
    }
   ],
   "source": [
    "# Drop rows with any missing values\n",
    "df_drop_rows = df.dropna()\n",
    "print(\"\\nDataFrame after dropping rows with any missing values:\\n\", df_drop_rows)\n"
   ]
  },
  {
   "cell_type": "markdown",
   "id": "2cf28270",
   "metadata": {},
   "source": [
    "* Drop Columns with Any Missing Values"
   ]
  },
  {
   "cell_type": "code",
   "execution_count": 4,
   "id": "330ce90c",
   "metadata": {},
   "outputs": [
    {
     "name": "stdout",
     "output_type": "stream",
     "text": [
      "\n",
      "DataFrame after dropping columns with any missing values:\n",
      "    C\n",
      "0  1\n",
      "1  2\n",
      "2  3\n",
      "3  4\n",
      "4  5\n"
     ]
    }
   ],
   "source": [
    "# Drop columns with any missing values\n",
    "df_drop_cols = df.dropna(axis=1)\n",
    "print(\"\\nDataFrame after dropping columns with any missing values:\\n\", df_drop_cols)"
   ]
  },
  {
   "cell_type": "markdown",
   "id": "1b9eaee0",
   "metadata": {},
   "source": [
    "# 3.Filling Missing Values"
   ]
  },
  {
   "cell_type": "markdown",
   "id": "3347989e",
   "metadata": {},
   "source": [
    "* Fill with Mean"
   ]
  },
  {
   "cell_type": "code",
   "execution_count": 6,
   "id": "8fa1bec4",
   "metadata": {},
   "outputs": [
    {
     "name": "stdout",
     "output_type": "stream",
     "text": [
      "\n",
      "DataFrame after filling missing values with mean:\n",
      "      A         B  C\n",
      "0  1.0  3.333333  1\n",
      "1  2.0  2.000000  2\n",
      "2  3.0  3.000000  3\n",
      "3  4.0  3.333333  4\n",
      "4  5.0  5.000000  5\n"
     ]
    }
   ],
   "source": [
    "# Fill missing values with mean of the column\n",
    "df_fill_mean = df.fillna(df.mean())\n",
    "print(\"\\nDataFrame after filling missing values with mean:\\n\", df_fill_mean)"
   ]
  },
  {
   "cell_type": "markdown",
   "id": "2e857b61",
   "metadata": {},
   "source": [
    "* Fill with Median"
   ]
  },
  {
   "cell_type": "code",
   "execution_count": 7,
   "id": "8e1c77a1",
   "metadata": {},
   "outputs": [
    {
     "name": "stdout",
     "output_type": "stream",
     "text": [
      "\n",
      "DataFrame after filling missing values with median:\n",
      "      A    B  C\n",
      "0  1.0  3.0  1\n",
      "1  2.0  2.0  2\n",
      "2  3.0  3.0  3\n",
      "3  4.0  3.0  4\n",
      "4  5.0  5.0  5\n"
     ]
    }
   ],
   "source": [
    "# Fill missing values with median of the column\n",
    "df_fill_median = df.fillna(df.median())\n",
    "print(\"\\nDataFrame after filling missing values with median:\\n\", df_fill_median)"
   ]
  },
  {
   "cell_type": "code",
   "execution_count": null,
   "id": "e96c3c58",
   "metadata": {},
   "outputs": [],
   "source": []
  }
 ],
 "metadata": {
  "kernelspec": {
   "display_name": "Python 3 (ipykernel)",
   "language": "python",
   "name": "python3"
  },
  "language_info": {
   "codemirror_mode": {
    "name": "ipython",
    "version": 3
   },
   "file_extension": ".py",
   "mimetype": "text/x-python",
   "name": "python",
   "nbconvert_exporter": "python",
   "pygments_lexer": "ipython3",
   "version": "3.10.9"
  }
 },
 "nbformat": 4,
 "nbformat_minor": 5
}
