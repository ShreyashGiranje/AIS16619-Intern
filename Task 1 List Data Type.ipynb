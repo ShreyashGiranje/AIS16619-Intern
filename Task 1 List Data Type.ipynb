{
 "cells": [
  {
   "cell_type": "code",
   "execution_count": 15,
   "id": "f08930fb",
   "metadata": {},
   "outputs": [
    {
     "data": {
      "text/plain": [
       "['apple', 1, 'banana', 5, 'cherry', 4, 'banana']"
      ]
     },
     "execution_count": 15,
     "metadata": {},
     "output_type": "execute_result"
    }
   ],
   "source": [
    "#List creation [] ()\n",
    "l1= [\"apple\",1, \"banana\",5, \"cherry\",4,\"banana\"]\n",
    "l1"
   ]
  },
  {
   "cell_type": "code",
   "execution_count": 16,
   "id": "c2dabf9e",
   "metadata": {},
   "outputs": [
    {
     "data": {
      "text/plain": [
       "list"
      ]
     },
     "execution_count": 16,
     "metadata": {},
     "output_type": "execute_result"
    }
   ],
   "source": [
    "type(l1)"
   ]
  },
  {
   "cell_type": "code",
   "execution_count": 17,
   "id": "2c274099",
   "metadata": {},
   "outputs": [
    {
     "data": {
      "text/plain": [
       "[]"
      ]
     },
     "execution_count": 17,
     "metadata": {},
     "output_type": "execute_result"
    }
   ],
   "source": [
    "# empty list\n",
    "my_list = []\n",
    "my_list"
   ]
  },
  {
   "cell_type": "code",
   "execution_count": 18,
   "id": "300dc27e",
   "metadata": {},
   "outputs": [
    {
     "data": {
      "text/plain": [
       "[1, 2, 3]"
      ]
     },
     "execution_count": 18,
     "metadata": {},
     "output_type": "execute_result"
    }
   ],
   "source": [
    "# list of integers\n",
    "my_list = [1, 2, 3]\n",
    "my_list"
   ]
  },
  {
   "cell_type": "code",
   "execution_count": 19,
   "id": "0b8640dd",
   "metadata": {},
   "outputs": [
    {
     "data": {
      "text/plain": [
       "[1, 'Hello', 3.4]"
      ]
     },
     "execution_count": 19,
     "metadata": {},
     "output_type": "execute_result"
    }
   ],
   "source": [
    "# list with mixed datatypes\n",
    "my_list = [1, \"Hello\", 3.4]\n",
    "my_list"
   ]
  },
  {
   "cell_type": "code",
   "execution_count": 20,
   "id": "71081f28",
   "metadata": {},
   "outputs": [
    {
     "data": {
      "text/plain": [
       "[['mi', 1, 2], 3, ['a']]"
      ]
     },
     "execution_count": 20,
     "metadata": {},
     "output_type": "execute_result"
    }
   ],
   "source": [
    "# nested list\n",
    "my_list = [[\"mi\",1, 2], 3, ['a']]\n",
    "my_list"
   ]
  },
  {
   "cell_type": "code",
   "execution_count": 21,
   "id": "0ef4e8a1",
   "metadata": {},
   "outputs": [],
   "source": [
    "#Accesing the items\n",
    "#You access the list items by referring to the index number\n",
    "l1[0]\n",
    "my_list = ['a','b','c','d','e']"
   ]
  },
  {
   "cell_type": "code",
   "execution_count": 22,
   "id": "ddc7b379",
   "metadata": {},
   "outputs": [
    {
     "data": {
      "text/plain": [
       "'d'"
      ]
     },
     "execution_count": 22,
     "metadata": {},
     "output_type": "execute_result"
    }
   ],
   "source": [
    "#+ve indexing starting start from zero\n",
    "#-ve indexing starting from -1\n",
    "my_list[-2]"
   ]
  },
  {
   "cell_type": "code",
   "execution_count": 23,
   "id": "1d18454e",
   "metadata": {},
   "outputs": [
    {
     "data": {
      "text/plain": [
       "['a', 'b', 'c', 'd', 'e']"
      ]
     },
     "execution_count": 23,
     "metadata": {},
     "output_type": "execute_result"
    }
   ],
   "source": [
    "my_list[:] #start: include and end:exclude"
   ]
  },
  {
   "cell_type": "code",
   "execution_count": 24,
   "id": "00fddd17",
   "metadata": {},
   "outputs": [
    {
     "data": {
      "text/plain": [
       "'c'"
      ]
     },
     "execution_count": 24,
     "metadata": {},
     "output_type": "execute_result"
    }
   ],
   "source": [
    "my_list[2]"
   ]
  },
  {
   "cell_type": "code",
   "execution_count": 25,
   "id": "b8cc6dae",
   "metadata": {},
   "outputs": [
    {
     "data": {
      "text/plain": [
       "'c'"
      ]
     },
     "execution_count": 25,
     "metadata": {},
     "output_type": "execute_result"
    }
   ],
   "source": [
    "my_list[2]"
   ]
  },
  {
   "cell_type": "code",
   "execution_count": 26,
   "id": "b3cf07e1",
   "metadata": {},
   "outputs": [
    {
     "data": {
      "text/plain": [
       "3"
      ]
     },
     "execution_count": 26,
     "metadata": {},
     "output_type": "execute_result"
    }
   ],
   "source": [
    "# Nested List\n",
    "n_list = [\"Hiii\", [0,1,2,[3]]]\n",
    "n_list[-1][3][-1]"
   ]
  },
  {
   "cell_type": "code",
   "execution_count": 27,
   "id": "18501c84",
   "metadata": {},
   "outputs": [
    {
     "data": {
      "text/plain": [
       "3"
      ]
     },
     "execution_count": 27,
     "metadata": {},
     "output_type": "execute_result"
    }
   ],
   "source": [
    "# Nested indexing\n",
    "n_list[-1][-1][-1]"
   ]
  },
  {
   "cell_type": "code",
   "execution_count": 28,
   "id": "594bdea9",
   "metadata": {},
   "outputs": [
    {
     "data": {
      "text/plain": [
       "[3]"
      ]
     },
     "execution_count": 28,
     "metadata": {},
     "output_type": "execute_result"
    }
   ],
   "source": [
    "n_list[1][3]"
   ]
  },
  {
   "cell_type": "code",
   "execution_count": 29,
   "id": "4297151e",
   "metadata": {},
   "outputs": [
    {
     "data": {
      "text/plain": [
       "['a', 'b', 'c', 'd', 'e']"
      ]
     },
     "execution_count": 29,
     "metadata": {},
     "output_type": "execute_result"
    }
   ],
   "source": [
    "#Negative Indexing-Python allows negative indexing for its sequences. \n",
    "#The index of -1 refers to the last item, -2 to the second last item and so\n",
    "my_list = ['a','b','c','d','e']\n",
    "my_list"
   ]
  },
  {
   "cell_type": "code",
   "execution_count": 30,
   "id": "c90e570b",
   "metadata": {},
   "outputs": [
    {
     "name": "stdout",
     "output_type": "stream",
     "text": [
      "e\n"
     ]
    }
   ],
   "source": [
    "print(my_list[4])"
   ]
  },
  {
   "cell_type": "code",
   "execution_count": 35,
   "id": "fe7e1c7a",
   "metadata": {},
   "outputs": [
    {
     "data": {
      "text/plain": [
       "['a', 'b', 'c', 'd', 'e', 'f', 'g', 'h', 'i']"
      ]
     },
     "execution_count": 35,
     "metadata": {},
     "output_type": "execute_result"
    }
   ],
   "source": [
    "#Slicing-We can access a range of items in a list by using the slicing oper\n",
    "my_list = ['a','b','c','d','e','f','g','h','i']\n",
    "my_list[:]"
   ]
  },
  {
   "cell_type": "code",
   "execution_count": 36,
   "id": "4ec4c67c",
   "metadata": {},
   "outputs": [
    {
     "name": "stdout",
     "output_type": "stream",
     "text": [
      "['d', 'e', 'f']\n"
     ]
    }
   ],
   "source": [
    "# elements 3rd to 5th    #start:include       end: exclude\n",
    "print(my_list[3:6])"
   ]
  },
  {
   "cell_type": "code",
   "execution_count": 37,
   "id": "7b69111d",
   "metadata": {},
   "outputs": [
    {
     "name": "stdout",
     "output_type": "stream",
     "text": [
      "['g', 'h', 'i']\n"
     ]
    }
   ],
   "source": [
    "# elements 6th to end\n",
    "print(my_list[6:])"
   ]
  },
  {
   "cell_type": "code",
   "execution_count": 38,
   "id": "ca31dd64",
   "metadata": {},
   "outputs": [
    {
     "name": "stdout",
     "output_type": "stream",
     "text": [
      "['a', 'b', 'c', 'd', 'e', 'f', 'g', 'h', 'i']\n"
     ]
    }
   ],
   "source": [
    "# elements beginning to end\n",
    "print(my_list[:])"
   ]
  },
  {
   "cell_type": "code",
   "execution_count": 39,
   "id": "c22d91ae",
   "metadata": {},
   "outputs": [
    {
     "data": {
      "text/plain": [
       "['apple', 'blackcurrant', 'banana', 5, 'cherry', 4, 'banana']"
      ]
     },
     "execution_count": 39,
     "metadata": {},
     "output_type": "execute_result"
    }
   ],
   "source": [
    "#Change the item value\n",
    "#To change the value of a specific item, refer to the index number\n",
    "l1[1] = \"blackcurrant\"\n",
    "l1"
   ]
  },
  {
   "cell_type": "code",
   "execution_count": 43,
   "id": "c5415b76",
   "metadata": {},
   "outputs": [
    {
     "data": {
      "text/plain": [
       "[5, 46, 54, 61, 67, 82]"
      ]
     },
     "execution_count": 43,
     "metadata": {},
     "output_type": "execute_result"
    }
   ],
   "source": [
    "#1-append()-appends an element to the end of the list.\n",
    "x=[\"apple\",\"banana\",\"cherry\",1,2,3,\"AIS\"]\n",
    "x.append(\"apple\")\n",
    "y=[5,46,82,61,54,67]\n",
    "y.sort()\n",
    "y"
   ]
  },
  {
   "cell_type": "code",
   "execution_count": 44,
   "id": "5da47581",
   "metadata": {},
   "outputs": [
    {
     "data": {
      "text/plain": [
       "1"
      ]
     },
     "execution_count": 44,
     "metadata": {},
     "output_type": "execute_result"
    }
   ],
   "source": [
    "x.count(\"banana\")"
   ]
  },
  {
   "cell_type": "code",
   "execution_count": 45,
   "id": "b44604ae",
   "metadata": {},
   "outputs": [
    {
     "data": {
      "text/plain": [
       "['apple', 'banana', 'cherry', 1, 2, 3, 'apple']"
      ]
     },
     "execution_count": 45,
     "metadata": {},
     "output_type": "execute_result"
    }
   ],
   "source": [
    "x.remove(\"AIS\")\n",
    "x"
   ]
  },
  {
   "cell_type": "code",
   "execution_count": 46,
   "id": "d9990482",
   "metadata": {},
   "outputs": [
    {
     "data": {
      "text/plain": [
       "['apple', 'banana', 'cherry', 1, 2, 3]"
      ]
     },
     "execution_count": 46,
     "metadata": {},
     "output_type": "execute_result"
    }
   ],
   "source": [
    "x.pop(-1)\n",
    "x"
   ]
  },
  {
   "cell_type": "code",
   "execution_count": 47,
   "id": "4a4ad936",
   "metadata": {},
   "outputs": [
    {
     "data": {
      "text/plain": [
       "['apple', 'banana', 'cherry', 1, 2, 3]"
      ]
     },
     "execution_count": 47,
     "metadata": {},
     "output_type": "execute_result"
    }
   ],
   "source": [
    "# x.clear()\n",
    "x"
   ]
  },
  {
   "cell_type": "code",
   "execution_count": 48,
   "id": "0ce94438",
   "metadata": {},
   "outputs": [
    {
     "data": {
      "text/plain": [
       "['apple', 'banana', 'cherry', 1, 2, 3]"
      ]
     },
     "execution_count": 48,
     "metadata": {},
     "output_type": "execute_result"
    }
   ],
   "source": [
    "x1=x.copy()\n",
    "x1"
   ]
  },
  {
   "cell_type": "code",
   "execution_count": 49,
   "id": "a8fd87f9",
   "metadata": {},
   "outputs": [
    {
     "data": {
      "text/plain": [
       "[3, 2, 1, 'cherry', 'banana', 'apple']"
      ]
     },
     "execution_count": 49,
     "metadata": {},
     "output_type": "execute_result"
    }
   ],
   "source": [
    "x.reverse()\n",
    "x"
   ]
  },
  {
   "cell_type": "code",
   "execution_count": 50,
   "id": "30aca863",
   "metadata": {},
   "outputs": [
    {
     "data": {
      "text/plain": [
       "4"
      ]
     },
     "execution_count": 50,
     "metadata": {},
     "output_type": "execute_result"
    }
   ],
   "source": [
    "x.index(\"banana\")"
   ]
  },
  {
   "cell_type": "code",
   "execution_count": 51,
   "id": "f4eec023",
   "metadata": {},
   "outputs": [
    {
     "data": {
      "text/plain": [
       "[3, 2, 1, 'cherry', 'banana', 'apple', [100, 200, 300]]"
      ]
     },
     "execution_count": 51,
     "metadata": {},
     "output_type": "execute_result"
    }
   ],
   "source": [
    "# append : only one value\n",
    "# Extend : more than 2 value\n",
    " \n",
    "x.append([100,200,300])\n",
    "x"
   ]
  },
  {
   "cell_type": "code",
   "execution_count": 52,
   "id": "6cf8e680",
   "metadata": {},
   "outputs": [],
   "source": [
    "#2-clear()-removes all the elements from a list\n",
    "fruits=[1,2,3]"
   ]
  },
  {
   "cell_type": "code",
   "execution_count": 53,
   "id": "c6d3edfc",
   "metadata": {},
   "outputs": [
    {
     "name": "stdout",
     "output_type": "stream",
     "text": [
      "[1, 2, 3]\n"
     ]
    }
   ],
   "source": [
    "print(fruits)"
   ]
  },
  {
   "cell_type": "code",
   "execution_count": 54,
   "id": "88ac26e4",
   "metadata": {},
   "outputs": [],
   "source": [
    "#3-copy()-returns a copy of the specified list\n",
    "fruits = ['apple', 'banana', 'cherry', 'orange',\"cherry\"]"
   ]
  },
  {
   "cell_type": "code",
   "execution_count": 55,
   "id": "dd11f9b5",
   "metadata": {},
   "outputs": [
    {
     "data": {
      "text/plain": [
       "['apple', 'banana', 'cherry', 'orange', 'cherry']"
      ]
     },
     "execution_count": 55,
     "metadata": {},
     "output_type": "execute_result"
    }
   ],
   "source": [
    "f2=fruits.copy()\n",
    "f2"
   ]
  },
  {
   "cell_type": "code",
   "execution_count": 56,
   "id": "4077d256",
   "metadata": {},
   "outputs": [
    {
     "data": {
      "text/plain": [
       "1220216163392"
      ]
     },
     "execution_count": 56,
     "metadata": {},
     "output_type": "execute_result"
    }
   ],
   "source": [
    "id(f2)"
   ]
  },
  {
   "cell_type": "code",
   "execution_count": 57,
   "id": "bbe23764",
   "metadata": {},
   "outputs": [
    {
     "data": {
      "text/plain": [
       "1220216519616"
      ]
     },
     "execution_count": 57,
     "metadata": {},
     "output_type": "execute_result"
    }
   ],
   "source": [
    "id(fruits)"
   ]
  },
  {
   "cell_type": "code",
   "execution_count": 58,
   "id": "2e002b52",
   "metadata": {},
   "outputs": [
    {
     "data": {
      "text/plain": [
       "['apple', 'banana', 'cherry', 'orange', 'cherry']"
      ]
     },
     "execution_count": 58,
     "metadata": {},
     "output_type": "execute_result"
    }
   ],
   "source": [
    "fruits"
   ]
  },
  {
   "cell_type": "code",
   "execution_count": 59,
   "id": "901022c3",
   "metadata": {},
   "outputs": [
    {
     "data": {
      "text/plain": [
       "'apple'"
      ]
     },
     "execution_count": 59,
     "metadata": {},
     "output_type": "execute_result"
    }
   ],
   "source": [
    "fruits.pop(0)"
   ]
  },
  {
   "cell_type": "code",
   "execution_count": 60,
   "id": "b2c48922",
   "metadata": {},
   "outputs": [
    {
     "data": {
      "text/plain": [
       "['banana', 'cherry', 'orange', 'cherry']"
      ]
     },
     "execution_count": 60,
     "metadata": {},
     "output_type": "execute_result"
    }
   ],
   "source": [
    "fruits"
   ]
  },
  {
   "cell_type": "code",
   "execution_count": 61,
   "id": "d0ad1b4c",
   "metadata": {},
   "outputs": [
    {
     "data": {
      "text/plain": [
       "['apple', 'banana', 'cherry', 'orange', 'cherry']"
      ]
     },
     "execution_count": 61,
     "metadata": {},
     "output_type": "execute_result"
    }
   ],
   "source": [
    "f2"
   ]
  },
  {
   "cell_type": "code",
   "execution_count": 62,
   "id": "2e919e8c",
   "metadata": {},
   "outputs": [
    {
     "data": {
      "text/plain": [
       "2"
      ]
     },
     "execution_count": 62,
     "metadata": {},
     "output_type": "execute_result"
    }
   ],
   "source": [
    "#4-count()-returns the number of elements with the specified value\n",
    "fruits.count(\"cherry\")#3-copy()-returns a copy of the specified list"
   ]
  },
  {
   "cell_type": "code",
   "execution_count": 63,
   "id": "e02cfda6",
   "metadata": {},
   "outputs": [],
   "source": [
    "fruits = ['apple', 'banana', 'cherry', 'orange',\"cherry\"]"
   ]
  },
  {
   "cell_type": "code",
   "execution_count": 64,
   "id": "db037db9",
   "metadata": {},
   "outputs": [
    {
     "data": {
      "text/plain": [
       "['Ford', 'BMW', 'Volvo']"
      ]
     },
     "execution_count": 64,
     "metadata": {},
     "output_type": "execute_result"
    }
   ],
   "source": [
    "#5-extend()-adds the specified list elements (or any iterable) to the end o\n",
    "cars = ['Ford', 'BMW', 'Volvo']\n",
    "cars"
   ]
  },
  {
   "cell_type": "code",
   "execution_count": 65,
   "id": "7606218e",
   "metadata": {},
   "outputs": [
    {
     "data": {
      "text/plain": [
       "['apple', 'banana', 'cherry', 'orange', 'cherry', ['Ford', 'BMW', 'Volvo']]"
      ]
     },
     "execution_count": 65,
     "metadata": {},
     "output_type": "execute_result"
    }
   ],
   "source": [
    "fruits.append(cars)\n",
    "fruits"
   ]
  },
  {
   "cell_type": "code",
   "execution_count": 66,
   "id": "2a39df3f",
   "metadata": {},
   "outputs": [
    {
     "data": {
      "text/plain": [
       "6"
      ]
     },
     "execution_count": 66,
     "metadata": {},
     "output_type": "execute_result"
    }
   ],
   "source": [
    "len(fruits)"
   ]
  },
  {
   "cell_type": "code",
   "execution_count": 67,
   "id": "41dec2f6",
   "metadata": {},
   "outputs": [],
   "source": [
    "fruits.extend(cars)"
   ]
  },
  {
   "cell_type": "code",
   "execution_count": 68,
   "id": "94cf5f19",
   "metadata": {},
   "outputs": [
    {
     "data": {
      "text/plain": [
       "['apple',\n",
       " 'banana',\n",
       " 'cherry',\n",
       " 'orange',\n",
       " 'cherry',\n",
       " ['Ford', 'BMW', 'Volvo'],\n",
       " 'Ford',\n",
       " 'BMW',\n",
       " 'Volvo']"
      ]
     },
     "execution_count": 68,
     "metadata": {},
     "output_type": "execute_result"
    }
   ],
   "source": [
    "fruits"
   ]
  },
  {
   "cell_type": "code",
   "execution_count": 69,
   "id": "82eb88ae",
   "metadata": {},
   "outputs": [
    {
     "data": {
      "text/plain": [
       "['apple',\n",
       " 'banana',\n",
       " 'cherry',\n",
       " 'orange',\n",
       " 'cherry',\n",
       " ['Ford', 'BMW', 'Volvo'],\n",
       " 'Ford',\n",
       " 'BMW',\n",
       " 'Volvo']"
      ]
     },
     "execution_count": 69,
     "metadata": {},
     "output_type": "execute_result"
    }
   ],
   "source": [
    "fruits"
   ]
  },
  {
   "cell_type": "code",
   "execution_count": 70,
   "id": "0d1d943f",
   "metadata": {},
   "outputs": [
    {
     "data": {
      "text/plain": [
       "0"
      ]
     },
     "execution_count": 70,
     "metadata": {},
     "output_type": "execute_result"
    }
   ],
   "source": [
    "#6-index()-returns the position at the first occurrence of the specified va\n",
    "fruits.index(\"apple\")"
   ]
  },
  {
   "cell_type": "code",
   "execution_count": 71,
   "id": "c6ea35d2",
   "metadata": {},
   "outputs": [],
   "source": [
    "#7-insert()-inserts the specified value at the specified position\n",
    "fruits.insert(0,\"pune\")"
   ]
  },
  {
   "cell_type": "code",
   "execution_count": 72,
   "id": "3fd1436a",
   "metadata": {},
   "outputs": [
    {
     "name": "stdout",
     "output_type": "stream",
     "text": [
      "['pune', 'apple', 'banana', 'cherry', 'orange', 'cherry', ['Ford', 'BMW', 'Volvo'], 'Ford', 'BMW', 'Volvo']\n"
     ]
    }
   ],
   "source": [
    "print(fruits)"
   ]
  },
  {
   "cell_type": "code",
   "execution_count": 73,
   "id": "5574b05a",
   "metadata": {},
   "outputs": [
    {
     "data": {
      "text/plain": [
       "['pune',\n",
       " 'apple',\n",
       " 'banana',\n",
       " 'cherry',\n",
       " 'orange',\n",
       " 'cherry',\n",
       " ['Ford', 'BMW', 'Volvo'],\n",
       " 'Ford',\n",
       " 'BMW',\n",
       " 'Volvo']"
      ]
     },
     "execution_count": 73,
     "metadata": {},
     "output_type": "execute_result"
    }
   ],
   "source": [
    "fruits"
   ]
  },
  {
   "cell_type": "code",
   "execution_count": 74,
   "id": "e7f0ac89",
   "metadata": {},
   "outputs": [
    {
     "data": {
      "text/plain": [
       "'banana'"
      ]
     },
     "execution_count": 74,
     "metadata": {},
     "output_type": "execute_result"
    }
   ],
   "source": [
    "#position : pop\n",
    "#value: remove\n",
    "#8-pop()-removes the element at the specified position\n",
    "fruits.pop(2)"
   ]
  },
  {
   "cell_type": "code",
   "execution_count": 75,
   "id": "2b0196f5",
   "metadata": {},
   "outputs": [
    {
     "data": {
      "text/plain": [
       "['pune',\n",
       " 'apple',\n",
       " 'cherry',\n",
       " 'orange',\n",
       " 'cherry',\n",
       " ['Ford', 'BMW', 'Volvo'],\n",
       " 'Ford',\n",
       " 'BMW',\n",
       " 'Volvo']"
      ]
     },
     "execution_count": 75,
     "metadata": {},
     "output_type": "execute_result"
    }
   ],
   "source": [
    "fruits"
   ]
  },
  {
   "cell_type": "code",
   "execution_count": 76,
   "id": "4049f475",
   "metadata": {},
   "outputs": [
    {
     "data": {
      "text/plain": [
       "['pune',\n",
       " 'apple',\n",
       " 'orange',\n",
       " 'cherry',\n",
       " ['Ford', 'BMW', 'Volvo'],\n",
       " 'Ford',\n",
       " 'BMW',\n",
       " 'Volvo']"
      ]
     },
     "execution_count": 76,
     "metadata": {},
     "output_type": "execute_result"
    }
   ],
   "source": [
    "fruits.remove(\"cherry\")\n",
    "fruits"
   ]
  },
  {
   "cell_type": "code",
   "execution_count": 77,
   "id": "a4736aaf",
   "metadata": {},
   "outputs": [
    {
     "data": {
      "text/plain": [
       "['apple', 'banana', 'cherry']"
      ]
     },
     "execution_count": 77,
     "metadata": {},
     "output_type": "execute_result"
    }
   ],
   "source": [
    "#9-remove()-removes the specified item\n",
    "thislist = [\"apple\", \"banana\", \"cherry\"]\n",
    "thislist"
   ]
  },
  {
   "cell_type": "code",
   "execution_count": 78,
   "id": "6685f895",
   "metadata": {},
   "outputs": [],
   "source": [
    "#10-reverse()-reverses the sorting order of the elements\n",
    "fruits.reverse()"
   ]
  },
  {
   "cell_type": "code",
   "execution_count": 79,
   "id": "e6b1a0bf",
   "metadata": {},
   "outputs": [
    {
     "data": {
      "text/plain": [
       "[5, 4, 3, 2, 1]"
      ]
     },
     "execution_count": 79,
     "metadata": {},
     "output_type": "execute_result"
    }
   ],
   "source": [
    "r=[1,2,3,4,5]\n",
    "r.reverse()\n",
    "r"
   ]
  },
  {
   "cell_type": "code",
   "execution_count": 80,
   "id": "628b50df",
   "metadata": {},
   "outputs": [
    {
     "data": {
      "text/plain": [
       "['Volvo',\n",
       " 'BMW',\n",
       " 'Ford',\n",
       " ['Ford', 'BMW', 'Volvo'],\n",
       " 'cherry',\n",
       " 'orange',\n",
       " 'apple',\n",
       " 'pune']"
      ]
     },
     "execution_count": 80,
     "metadata": {},
     "output_type": "execute_result"
    }
   ],
   "source": [
    "fruits"
   ]
  },
  {
   "cell_type": "code",
   "execution_count": 81,
   "id": "ed3219bb",
   "metadata": {},
   "outputs": [
    {
     "data": {
      "text/plain": [
       "[1, 2, 3, 4, 5]"
      ]
     },
     "execution_count": 81,
     "metadata": {},
     "output_type": "execute_result"
    }
   ],
   "source": [
    "#10-sort()-sorts the list ascending by default\n",
    "r.sort()\n",
    "r"
   ]
  },
  {
   "cell_type": "code",
   "execution_count": 82,
   "id": "c943b5f4",
   "metadata": {},
   "outputs": [
    {
     "data": {
      "text/plain": [
       "(1, 2, 3, 4)"
      ]
     },
     "execution_count": 82,
     "metadata": {},
     "output_type": "execute_result"
    }
   ],
   "source": [
    "l=(1,2,3,4)\n",
    "l1=l\n",
    "l1"
   ]
  },
  {
   "cell_type": "code",
   "execution_count": 85,
   "id": "a875b56b",
   "metadata": {},
   "outputs": [
    {
     "ename": "AttributeError",
     "evalue": "'tuple' object has no attribute 'append'",
     "output_type": "error",
     "traceback": [
      "\u001b[1;31m---------------------------------------------------------------------------\u001b[0m",
      "\u001b[1;31mAttributeError\u001b[0m                            Traceback (most recent call last)",
      "Cell \u001b[1;32mIn[85], line 1\u001b[0m\n\u001b[1;32m----> 1\u001b[0m \u001b[43ml1\u001b[49m\u001b[38;5;241;43m.\u001b[39;49m\u001b[43mappend\u001b[49m(\u001b[38;5;241m100\u001b[39m)\n",
      "\u001b[1;31mAttributeError\u001b[0m: 'tuple' object has no attribute 'append'"
     ]
    }
   ],
   "source": [
    "l1.append(100)\n"
   ]
  },
  {
   "cell_type": "code",
   "execution_count": 86,
   "id": "1338de87",
   "metadata": {},
   "outputs": [
    {
     "data": {
      "text/plain": [
       "(1, 2, 3, 4)"
      ]
     },
     "execution_count": 86,
     "metadata": {},
     "output_type": "execute_result"
    }
   ],
   "source": [
    "l1"
   ]
  },
  {
   "cell_type": "code",
   "execution_count": 87,
   "id": "87ac4bf4",
   "metadata": {},
   "outputs": [
    {
     "data": {
      "text/plain": [
       "1220216126128"
      ]
     },
     "execution_count": 87,
     "metadata": {},
     "output_type": "execute_result"
    }
   ],
   "source": [
    "id(l)"
   ]
  },
  {
   "cell_type": "code",
   "execution_count": 88,
   "id": "465e7fff",
   "metadata": {},
   "outputs": [
    {
     "data": {
      "text/plain": [
       "5"
      ]
     },
     "execution_count": 88,
     "metadata": {},
     "output_type": "execute_result"
    }
   ],
   "source": [
    "int(float(\"5.0\"))"
   ]
  },
  {
   "cell_type": "code",
   "execution_count": null,
   "id": "cdfb4a8b",
   "metadata": {},
   "outputs": [],
   "source": [
    "tuple==> list, set\n",
    "list ==> tuple , set\n",
    "set==> tuple, list\n",
    "int ==> float, str\n",
    "float==> int, str\n",
    "str==> int, float"
   ]
  }
 ],
 "metadata": {
  "kernelspec": {
   "display_name": "Python 3 (ipykernel)",
   "language": "python",
   "name": "python3"
  },
  "language_info": {
   "codemirror_mode": {
    "name": "ipython",
    "version": 3
   },
   "file_extension": ".py",
   "mimetype": "text/x-python",
   "name": "python",
   "nbconvert_exporter": "python",
   "pygments_lexer": "ipython3",
   "version": "3.10.9"
  }
 },
 "nbformat": 4,
 "nbformat_minor": 5
}
