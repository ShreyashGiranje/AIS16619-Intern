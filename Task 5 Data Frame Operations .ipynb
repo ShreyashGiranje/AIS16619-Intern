{
 "cells": [
  {
   "cell_type": "markdown",
   "id": "55fcbc2b",
   "metadata": {},
   "source": [
    "# Data Frame"
   ]
  },
  {
   "cell_type": "code",
   "execution_count": 1,
   "id": "53c7a24b",
   "metadata": {},
   "outputs": [
    {
     "name": "stdout",
     "output_type": "stream",
     "text": [
      "      Name  Age      City\n",
      "0  Shreash   24       Bmt\n",
      "1     Yash   27       Bmt\n",
      "2       Om   22  Baramati\n"
     ]
    }
   ],
   "source": [
    "import pandas as pd\n",
    "data = {\n",
    "    'Name': ['Shreash', 'Yash', 'Om'],\n",
    "    'Age': [24, 27, 22],\n",
    "    'City': ['Bmt', 'Bmt', 'Baramati']\n",
    "    \n",
    "}\n",
    "df = pd.DataFrame(data)\n",
    "print(df)"
   ]
  },
  {
   "cell_type": "code",
   "execution_count": 2,
   "id": "90c82ee4",
   "metadata": {},
   "outputs": [
    {
     "name": "stdout",
     "output_type": "stream",
     "text": [
      "             Age\n",
      "count   3.000000\n",
      "mean   24.333333\n",
      "std     2.516611\n",
      "min    22.000000\n",
      "25%    23.000000\n",
      "50%    24.000000\n",
      "75%    25.500000\n",
      "max    27.000000\n"
     ]
    }
   ],
   "source": [
    "# Describe: To get statistical summary of numeric columns.\n",
    "print(df.describe())"
   ]
  },
  {
   "cell_type": "code",
   "execution_count": 3,
   "id": "450adc90",
   "metadata": {},
   "outputs": [
    {
     "name": "stdout",
     "output_type": "stream",
     "text": [
      "      Name  Age      City\n",
      "0  Shreash   25       Bmt\n",
      "1     Yash   28       Bmt\n",
      "2       Om   23  Baramati\n"
     ]
    }
   ],
   "source": [
    "# Apply Function:\n",
    "df['Age'] = df['Age'].apply(lambda x: x + 1)\n",
    "print(df)"
   ]
  },
  {
   "cell_type": "code",
   "execution_count": 4,
   "id": "f025bad3",
   "metadata": {},
   "outputs": [
    {
     "name": "stdout",
     "output_type": "stream",
     "text": [
      "A    3\n",
      "B    3\n",
      "C    1\n",
      "Name: Category, dtype: int64\n"
     ]
    }
   ],
   "source": [
    "# value_counts()\n",
    "import pandas as pd\n",
    "# Example DataFrame\n",
    "data = {'Category': ['A', 'B', 'A', 'A', 'C', 'B', 'B']}\n",
    "df = pd.DataFrame(data)\n",
    "# Count the occurrences of each category\n",
    "print(df['Category'].value_counts())"
   ]
  },
  {
   "cell_type": "code",
   "execution_count": 5,
   "id": "64cd1314",
   "metadata": {},
   "outputs": [
    {
     "name": "stdout",
     "output_type": "stream",
     "text": [
      "['A' 'B' 'C']\n"
     ]
    }
   ],
   "source": [
    "# Get unique categories\n",
    "print(df['Category'].unique())"
   ]
  },
  {
   "cell_type": "code",
   "execution_count": 6,
   "id": "3c5affd6",
   "metadata": {},
   "outputs": [
    {
     "name": "stdout",
     "output_type": "stream",
     "text": [
      "3\n"
     ]
    }
   ],
   "source": [
    "# Count the number of unique categories\n",
    "print(df['Category'].nunique())"
   ]
  },
  {
   "cell_type": "code",
   "execution_count": 7,
   "id": "1ed76879",
   "metadata": {},
   "outputs": [
    {
     "name": "stdout",
     "output_type": "stream",
     "text": [
      "Original DataFrame:\n",
      "    A  B       C   D\n",
      "0  1  5   apple  10\n",
      "1  2  6  banana  20\n",
      "2  2  6   apple  30\n",
      "3  3  6  banana  40\n",
      "4  4  7  banana  50\n",
      "5  4  8   apple  60\n",
      "6  4  9  banana  70\n"
     ]
    }
   ],
   "source": [
    "import pandas as pd\n",
    "# Sample DataFrame\n",
    "data = {\n",
    "    'A': [1, 2, 2, 3, 4, 4, 4],\n",
    "    'B': [5, 6, 6, 6, 7, 8, 9],\n",
    "    'C': ['apple', 'banana', 'apple', 'banana', 'banana', 'apple', 'banana'],\n",
    "    'D': [10, 20, 30, 40, 50, 60, 70]\n",
    "}\n",
    "df = pd.DataFrame(data)\n",
    "print(\"Original DataFrame:\\n\", df)"
   ]
  },
  {
   "cell_type": "code",
   "execution_count": 8,
   "id": "b91dd5c1",
   "metadata": {},
   "outputs": [
    {
     "name": "stdout",
     "output_type": "stream",
     "text": [
      "\n",
      "DataFrame sorted by columns 'A' and 'B':\n",
      "    A  B       C   D\n",
      "0  1  5   apple  10\n",
      "1  2  6  banana  20\n",
      "2  2  6   apple  30\n",
      "3  3  6  banana  40\n",
      "4  4  7  banana  50\n",
      "5  4  8   apple  60\n",
      "6  4  9  banana  70\n"
     ]
    }
   ],
   "source": [
    "# Sort by columns 'A' and 'B'\n",
    "sorted_df_multi = df.sort_values(by=['A', 'B'])\n",
    "print(\"\\nDataFrame sorted by columns 'A' and 'B':\\n\", sorted_df_multi)"
   ]
  },
  {
   "cell_type": "code",
   "execution_count": 9,
   "id": "7f571965",
   "metadata": {},
   "outputs": [
    {
     "name": "stdout",
     "output_type": "stream",
     "text": [
      "\n",
      "Sum of each group by columns 'A' and 'C':\n",
      "            B    D\n",
      "A C              \n",
      "1 apple    5   10\n",
      "2 apple    6   30\n",
      "  banana   6   20\n",
      "3 banana   6   40\n",
      "4 apple    8   60\n",
      "  banana  16  120\n"
     ]
    }
   ],
   "source": [
    "# Group by columns 'A' and 'C' and calculate the sum of each group\n",
    "grouped_sum = df.groupby(['A', 'C']).sum()\n",
    "print(\"\\nSum of each group by columns 'A' and 'C':\\n\", grouped_sum)"
   ]
  },
  {
   "cell_type": "code",
   "execution_count": null,
   "id": "abaa2527",
   "metadata": {},
   "outputs": [],
   "source": []
  }
 ],
 "metadata": {
  "kernelspec": {
   "display_name": "Python 3 (ipykernel)",
   "language": "python",
   "name": "python3"
  },
  "language_info": {
   "codemirror_mode": {
    "name": "ipython",
    "version": 3
   },
   "file_extension": ".py",
   "mimetype": "text/x-python",
   "name": "python",
   "nbconvert_exporter": "python",
   "pygments_lexer": "ipython3",
   "version": "3.10.9"
  }
 },
 "nbformat": 4,
 "nbformat_minor": 5
}
