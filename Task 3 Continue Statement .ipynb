{
 "cells": [
  {
   "cell_type": "markdown",
   "id": "ad28eeea",
   "metadata": {},
   "source": [
    "# Continue Statement "
   ]
  },
  {
   "cell_type": "markdown",
   "id": "2c1e05e3",
   "metadata": {},
   "source": [
    "The continue statement in Python is used to skip the rest of the code inside the current loop iteration and immediately move to the next iteration of the loop. It can be particularly useful when you want to skip certain conditions within loops without breaking out of the loop entirely.\n",
    "\n",
    "Here are some examples that demonstrate the use of the continue statement:"
   ]
  },
  {
   "cell_type": "code",
   "execution_count": null,
   "id": "7765101f",
   "metadata": {},
   "outputs": [],
   "source": [
    "#Example 1\n",
    "#Use the continue keyword in a while loop:"
   ]
  },
  {
   "cell_type": "code",
   "execution_count": 8,
   "id": "ac258019",
   "metadata": {},
   "outputs": [
    {
     "name": "stdout",
     "output_type": "stream",
     "text": [
      "0\n",
      "1\n",
      "2\n",
      "4\n",
      "5\n",
      "6\n",
      "7\n",
      "8\n"
     ]
    }
   ],
   "source": [
    "for i in range(9):\n",
    "    if i == 3:\n",
    "        continue\n",
    "    print(i)"
   ]
  },
  {
   "cell_type": "code",
   "execution_count": 12,
   "id": "fef76af1",
   "metadata": {},
   "outputs": [],
   "source": [
    "#Example 2\n",
    "#Using continue in a for Loop"
   ]
  },
  {
   "cell_type": "code",
   "execution_count": 13,
   "id": "0c241013",
   "metadata": {},
   "outputs": [
    {
     "name": "stdout",
     "output_type": "stream",
     "text": [
      "1\n",
      "3\n",
      "5\n",
      "7\n",
      "9\n"
     ]
    }
   ],
   "source": [
    "for i in range(10):\n",
    "    if i % 2 == 0:\n",
    "        continue                    # Skip the rest of the code in this iteration for even numbers\n",
    "    print(i)                        # This will print only odd numbers (1, 3, 5, 7, 9)"
   ]
  },
  {
   "cell_type": "code",
   "execution_count": 14,
   "id": "cbf17f6e",
   "metadata": {},
   "outputs": [],
   "source": [
    "#Example 3\n",
    "#Using continue statement in a while Loop"
   ]
  },
  {
   "cell_type": "code",
   "execution_count": 15,
   "id": "24ed680d",
   "metadata": {},
   "outputs": [
    {
     "name": "stdout",
     "output_type": "stream",
     "text": [
      "1\n",
      "3\n",
      "5\n",
      "7\n",
      "9\n"
     ]
    }
   ],
   "source": [
    "i = 0\n",
    "while i < 10:\n",
    "    i += 1\n",
    "    if i % 2 == 0:\n",
    "        continue                    # Skip the rest of the code in this iteration for even numbers\n",
    "    print(i)                        # This will print only odd numbers (1, 3, 5, 7, 9)"
   ]
  },
  {
   "cell_type": "code",
   "execution_count": null,
   "id": "dc97f29b",
   "metadata": {},
   "outputs": [],
   "source": []
  }
 ],
 "metadata": {
  "kernelspec": {
   "display_name": "Python 3 (ipykernel)",
   "language": "python",
   "name": "python3"
  },
  "language_info": {
   "codemirror_mode": {
    "name": "ipython",
    "version": 3
   },
   "file_extension": ".py",
   "mimetype": "text/x-python",
   "name": "python",
   "nbconvert_exporter": "python",
   "pygments_lexer": "ipython3",
   "version": "3.10.9"
  }
 },
 "nbformat": 4,
 "nbformat_minor": 5
}
